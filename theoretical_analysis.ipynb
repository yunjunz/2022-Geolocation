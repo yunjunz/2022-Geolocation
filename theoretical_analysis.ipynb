{
 "cells": [
  {
   "cell_type": "markdown",
   "metadata": {},
   "source": [
    "## Theoretical Uncertainty of Azimuth Offset Stack from Sentinel-1"
   ]
  },
  {
   "cell_type": "code",
   "execution_count": 2,
   "metadata": {},
   "outputs": [],
   "source": [
    "%matplotlib inline\n",
    "import os\n",
    "import time\n",
    "import datetime as dt\n",
    "import numpy as np\n",
    "from matplotlib import pyplot as plt\n",
    "from mintpy.utils import plot as pp, network as pnet, ptime\n",
    "from mintpy.objects import ifgramStack, timeseries"
   ]
  },
  {
   "cell_type": "markdown",
   "metadata": {},
   "source": [
    "### Ratio of azimuth resolution to half of the wavelength\n",
    "\n",
    "OR radar frequency to azimuth bandwidth ratio (accuracy of interferometry to correlation)\n",
    "\n",
    "Reference: https://github.com/insarlab/MintPy-tutorial/blob/master/applications/calculate_multilook_number.ipynb"
   ]
  },
  {
   "cell_type": "code",
   "execution_count": 6,
   "metadata": {},
   "outputs": [
    {
     "name": "stdout",
     "output_type": "stream",
     "text": [
      "ratio of azimuth resolution to half of wavelength: 508\n"
     ]
    }
   ],
   "source": [
    "speed_of_light = 299792458    #m/s\n",
    "\n",
    "# Sentinel-1 parameter\n",
    "f0 = 5.405e9       #Hz\n",
    "wvl = speed_of_light / f0   #0.055 m\n",
    "az_spacing = 14.1  #m\n",
    "rg_spacing = 4.7   #m\n",
    "print('ratio of azimuth resolution to half of wavelength: {:.0f}'.format(az_spacing / (wvl * 0.5)))"
   ]
  },
  {
   "cell_type": "code",
   "execution_count": 7,
   "metadata": {},
   "outputs": [
    {
     "name": "stdout",
     "output_type": "stream",
     "text": [
      "offset STD for single offset: 2.3 cm\n"
     ]
    }
   ],
   "source": [
    "## displacement STD in azimuth direction from complex cross correlation (Bamler and Einder, 2005)\n",
    "gamma = 0.8\n",
    "#N = np.linspace(100,40000,100)\n",
    "N = 256 * 256\n",
    "sigma0 = (3 / (2*N)) ** 0.5 * (1 - gamma**2) ** 0.5 / (np.pi * gamma) * az_spacing\n",
    "print('offset STD for single offset: {:.1f} cm'.format(sigma0 * 100 * np.sqrt(2)))"
   ]
  },
  {
   "cell_type": "code",
   "execution_count": 8,
   "metadata": {},
   "outputs": [],
   "source": [
    "# list of acquisition dates\n",
    "num_image = 100\n",
    "revisit_time = 12   #days\n",
    "time0 = dt.datetime(2015,1,1,0,0,0)\n",
    "times = []\n",
    "for i in range(num_image):\n",
    "    times.append(time0 + dt.timedelta(days=revisit_time*i))\n",
    "date_list = [i.strftime(\"%Y%m%d\") for i in times]\n",
    "tbase = np.array(ptime.date_list2tbase(date_list)[0]) / 365.25\n",
    "\n",
    "# list of offset pairs\n",
    "date12_list = pnet.select_pairs_sequential(date_list, num_connection=3, date12_format='YYYYMMDD_YYYYMMDD')\n",
    "cov_off = np.diag(np.ones(len(date12_list))) * (sigma0**2)\n",
    "tbase12 = []\n",
    "for date12 in date12_list:\n",
    "    time1, time2 = [dt.datetime(*time.strptime(i, \"%Y%m%d\")[0:5]) for i in date12.split('_')]\n",
    "    tbase12.append((time2 - time1).days / 365.25)"
   ]
  },
  {
   "cell_type": "code",
   "execution_count": 9,
   "metadata": {},
   "outputs": [
    {
     "data": {
      "image/png": "[encoded data removed]",
      "text/plain": [
       "<Figure size 864x360 with 2 Axes>"
      ]
     },
     "metadata": {
      "needs_background": "light"
     },
     "output_type": "display_data"
    },
    {
     "name": "stdout",
     "output_type": "stream",
     "text": [
      "average velocity STD: 1.3 cm/yr\n"
     ]
    }
   ],
   "source": [
    "## method 1: stack --> time-series --> velocity\n",
    "ref_ind = int(num_image/2)\n",
    "A = ifgramStack.get_design_matrix4timeseries(date12_list, refDate=date_list[ref_ind])[0]\n",
    "cov_ts = np.linalg.inv(A.T.dot(np.linalg.inv(cov_off)).dot(A))\n",
    "#cov_ts0 = np.diag(cov_ts0)\n",
    "#cov_ts = np.diag(np.concatenate((cov_ts0[0:ref_ind], np.array([0]), cov_ts0[ref_ind:])))\n",
    "#cov_ts = np.zeros((num_image, num_image), dtype=np.float32)\n",
    "#cov_ts[0:ref_ind  , 0:ref_ind]  = cov_ts0[0:ref_ind, 0:ref_ind]\n",
    "#cov_ts[0:ref_ind  , ref_ind+1:] = cov_ts0[0:ref_ind, ref_ind:]\n",
    "#cov_ts[ref_ind+1: , 0:ref_ind]  = cov_ts0[ref_ind: , 0:ref_ind]\n",
    "#cov_ts[ref_ind+1: , ref_ind+1:] = cov_ts0[ref_ind: , ref_ind:]\n",
    "\n",
    "fig, axs = plt.subplots(nrows=1, ncols=2, figsize=[12,5])\n",
    "axs[0].imshow(cov_ts)\n",
    "axs[1].plot(times[0:ref_ind] + times[ref_ind+1:], np.sqrt(np.diag(cov_ts)), '.')\n",
    "pp.auto_adjust_xaxis_date(axs[1], times)\n",
    "plt.show()\n",
    "\n",
    "## time-series to velocity\n",
    "B = timeseries.get_design_matrix4average_velocity(date_list, refDate=date_list[ref_ind])\n",
    "B = np.concatenate((B[0:ref_ind], B[ref_ind+1:]))\n",
    "B = B[:,0].reshape(-1,1)\n",
    "cov_vel = np.linalg.inv(B.T.dot(np.linalg.inv(cov_ts)).dot(B))\n",
    "std_vel = np.sqrt(cov_vel[0,0])\n",
    "print('average velocity STD: {:.1f} cm/yr'.format(std_vel*100))"
   ]
  },
  {
   "cell_type": "code",
   "execution_count": 10,
   "metadata": {},
   "outputs": [
    {
     "name": "stdout",
     "output_type": "stream",
     "text": [
      "average velocity STD: 1.9 cm/yr\n"
     ]
    }
   ],
   "source": [
    "## Method 2: stack --> velocity\n",
    "A = np.array(tbase12).reshape(-1,1)\n",
    "cov_vel = np.linalg.inv(A.T.dot(np.linalg.inv(cov_off)).dot(A))\n",
    "std_vel = np.sqrt(cov_vel[0,0])\n",
    "print('average velocity STD: {:.1f} cm/yr'.format(std_vel*100*np.sqrt(2)))"
   ]
  },
  {
   "cell_type": "code",
   "execution_count": null,
   "metadata": {},
   "outputs": [],
   "source": []
  }
 ],
 "metadata": {
  "kernelspec": {
   "display_name": "Python 3",
   "language": "python",
   "name": "python3"
  },
  "language_info": {
   "codemirror_mode": {
    "name": "ipython",
    "version": 3
   },
   "file_extension": ".py",
   "mimetype": "text/x-python",
   "name": "python",
   "nbconvert_exporter": "python",
   "pygments_lexer": "ipython3",
   "version": "3.7.5"
  }
 },
 "nbformat": 4,
 "nbformat_minor": 2
}
