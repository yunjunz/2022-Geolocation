{
 "cells": [
  {
   "cell_type": "code",
   "execution_count": 1,
   "metadata": {},
   "outputs": [
    {
     "name": "stdout",
     "output_type": "stream",
     "text": [
      "Go to directory /Users/yunjunz/data/Tarapaca/SenDT156\n"
     ]
    }
   ],
   "source": [
    "%matplotlib inline\n",
    "import os\n",
    "import pickle\n",
    "import h5py\n",
    "import numpy as np\n",
    "from matplotlib import pyplot as plt, ticker\n",
    "from mintpy.objects import timeseries\n",
    "from mintpy.utils import ptime, readfile, writefile, utils as ut, plot as pp\n",
    "from unwrap_error.simulation import iono\n",
    "plt.rcParams.update({'font.size': 12})\n",
    "figsize = [9, 3]\n",
    "\n",
    "\n",
    "win = 5  # half size of the window of interest\n",
    "lalo = [-21.29, -69.58]; box_suffix = 'boxCL'   # box in the center left with low  altitude; box = (10,  55,  20, 70) for SenAT149\n",
    "lalo = [-21.30, -67.39]; box_suffix = 'boxLR'   # box in the lower right with high altitude; box = (200, 15, 215, 30) for SenAT149\n",
    "\n",
    "proj_name = 'SenDT156'  # SenAT149, SenDT156\n",
    "\n",
    "proj_dir = os.path.join('/Users/yunjunz/data/Tarapaca', proj_name)\n",
    "os.chdir(proj_dir)\n",
    "print('Go to directory', proj_dir)\n",
    "\n",
    "out_file = os.path.join(proj_dir, 'offset_comp', box_suffix ,'TECigs.pickle')\n",
    "\n",
    "# config for IGS TEC data\n",
    "igs_tec_dir = os.path.expanduser('~/data/aux/TEC')"
   ]
  },
  {
   "cell_type": "markdown",
   "metadata": {},
   "source": [
    "### 1. calc/read IGS TEC data"
   ]
  },
  {
   "cell_type": "code",
   "execution_count": 3,
   "metadata": {},
   "outputs": [
    {
     "name": "stdout",
     "output_type": "stream",
     "text": [
      "file exists: /Users/yunjunz/data/Tarapaca/SenDT156/mintpyOffset/inputs/IGS_TEC.h5, skip re-calculating.\n",
      "read delay with box (42, 71, 52, 81)\n"
     ]
    }
   ],
   "source": [
    "## calculate ionospheric delay from IGS GNSS TEC\n",
    "igs_tec_file = os.path.join(proj_dir, 'mintpyOffset/inputs/IGS_TEC.h5')\n",
    "\n",
    "if not os.path.isfile(igs_tec_file):\n",
    "    ref_ts_file = os.path.join(proj_dir, 'mintpyOffset/timeseriesRg.h5')\n",
    "    geom_file = os.path.join(proj_dir, 'mintpyOffset/inputs/geometryRadar.h5')\n",
    "\n",
    "    iono_file = iono.igs_iono_ramp_timeseries(igs_tec_dir,\n",
    "                                              out_file=igs_tec_file,\n",
    "                                              geom_file=geom_file,\n",
    "                                              ref_ts_file=ref_ts_file)\n",
    "else:\n",
    "    print('file exists: {}, skip re-calculating.'.format(igs_tec_file))\n",
    "\n",
    "## read data\n",
    "atr = readfile.read_attribute(igs_tec_file)\n",
    "length, width = int(atr['LENGTH']), int(atr['WIDTH'])\n",
    "\n",
    "# lalo --> box\n",
    "geom_file = os.path.join(proj_dir, 'mintpyOffset/inputs/geometryRadar.h5')\n",
    "coord = ut.coordinate(atr, lookup_file=geom_file)\n",
    "y, x = coord.geo2radar(lalo[0], lalo[1])[:2]\n",
    "box = (x-win, y-win, x+win, y+win)\n",
    "\n",
    "if box is None:\n",
    "    box = (0, 0, width, length)\n",
    "print('read delay with box {}'.format(box))\n",
    "\n",
    "date_list = timeseries(igs_tec_file).get_date_list()\n",
    "num_date = len(date_list)\n",
    "with h5py.File(igs_tec_file, 'r') as f:\n",
    "    ts_data = f['timeseries'][:, box[1]:box[3], box[0]:box[2]].reshape(num_date, -1)\n",
    "    ts_vtec = f['vtec'][:]\n",
    "\n",
    "# calculate median and mean\n",
    "iono_avg = np.nanmean(ts_data, axis=-1)\n",
    "iono_med = np.nanmedian(ts_data, axis=-1)"
   ]
  },
  {
   "cell_type": "markdown",
   "metadata": {},
   "source": [
    "### 2. save to pickle file"
   ]
  },
  {
   "cell_type": "code",
   "execution_count": 4,
   "metadata": {},
   "outputs": [
    {
     "name": "stdout",
     "output_type": "stream",
     "text": [
      "save data to file: /Users/yunjunz/data/Tarapaca/SenDT156/offset_comp/boxLR/TECigs.pickle\n"
     ]
    }
   ],
   "source": [
    "# gather all into gim_tec dict\n",
    "igs_tec = {}\n",
    "igs_tec['date'] = np.array(date_list)\n",
    "igs_tec['time'] = np.array(ptime.date_list2vector(date_list)[0])\n",
    "igs_tec['TEC'] = np.array(ts_vtec)\n",
    "igs_tec['range_delay4Cband_TEC'] = iono_med\n",
    "\n",
    "## save to file\n",
    "os.makedirs(os.path.dirname(out_file), exist_ok=True)\n",
    "with open(out_file, 'wb') as f:\n",
    "    pickle.dump(igs_tec, f)\n",
    "    print('save data to file: {}'.format(out_file))"
   ]
  },
  {
   "cell_type": "markdown",
   "metadata": {},
   "source": [
    "### 3. plot"
   ]
  },
  {
   "cell_type": "code",
   "execution_count": 5,
   "metadata": {},
   "outputs": [
    {
     "name": "stdout",
     "output_type": "stream",
     "text": [
      "save figure to file /Users/yunjunz/data/Tarapaca/SenDT156/offset_comp/boxLR/TECigs.png\n"
     ]
    },
    {
     "data": {
      "image/png": "[encoded data removed]",
      "text/plain": [
       "<Figure size 648x216 with 1 Axes>"
      ]
     },
     "metadata": {
      "needs_background": "light"
     },
     "output_type": "display_data"
    }
   ],
   "source": [
    "## plot\n",
    "fig, ax = plt.subplots(figsize=figsize)\n",
    "ax.plot(igs_tec['time'], igs_tec['TEC'], linewidth=4, color='C1', label='TEC')\n",
    "pp.auto_adjust_xaxis_date(ax, igs_tec['time'], every_year=1, buffer_year=None)\n",
    "ax.set_ylabel('zenith TEC [TECU]')\n",
    "ax.set_ylim(0, 70)\n",
    "ax.yaxis.set_major_locator(ticker.MultipleLocator(20))\n",
    "ax.legend()\n",
    "fig.tight_layout()\n",
    "\n",
    "# output\n",
    "out_fig = os.path.join(os.path.dirname(out_file), 'TECigs.png')\n",
    "print('save figure to file', out_fig)\n",
    "plt.savefig(out_fig, bbox_inches='tight', transparent=True, dpi=300)\n",
    "plt.show()"
   ]
  },
  {
   "cell_type": "code",
   "execution_count": null,
   "metadata": {},
   "outputs": [],
   "source": []
  }
 ],
 "metadata": {
  "kernelspec": {
   "display_name": "Python 3",
   "language": "python",
   "name": "python3"
  },
  "language_info": {
   "codemirror_mode": {
    "name": "ipython",
    "version": 3
   },
   "file_extension": ".py",
   "mimetype": "text/x-python",
   "name": "python",
   "nbconvert_exporter": "python",
   "pygments_lexer": "ipython3",
   "version": "3.7.7"
  }
 },
 "nbformat": 4,
 "nbformat_minor": 4
}
