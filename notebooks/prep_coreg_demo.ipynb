{
 "cells": [
  {
   "cell_type": "markdown",
   "id": "e4794c9f",
   "metadata": {},
   "source": [
    "## Example Coregistration using Geometry + Ancillary-based Refinement\n",
    "\n",
    "+ Location: Hawaii\n",
    "+ Data: ALOS descending track 598 frame 3230, Jan 19 - Mar 6, 2011.\n",
    "\n",
    "#### Prepare for `stripmapApp.py`\n",
    "\n",
    "+ Search and download ALOS data from ASF\n",
    "   - ALPSRP265743230 ([ASF download link](https://datapool.asf.alaska.edu/L1.0/A3/ALPSRP265743230-L1.0.zip))\n",
    "   - ALPSRP272453230 ([ASF download link](https://datapool.asf.alaska.edu/L1.0/A3/ALPSRP272453230-L1.0.zip))\n",
    "\n",
    "\n",
    "+ DEM\n",
    "```bash\n",
    "cd ~/data/geolocation/HawaiiAlosDT598\n",
    "mkdir -p DEM; cd DEM\n",
    "dem.py -a stitch -b 18 21 -156 -154 -r -s 1 -c -f\n",
    "```\n",
    "\n",
    "\n",
    "+ Configuration for `stripmapApp.py`\n",
    "   - Tutorial: https://github.com/parosen/Geo-SInC/blob/main/UNAVCO2021/1.4_Stripmap_Data_Processing_Interferometry/stripmapApp.ipynb\n",
    "   - [reference.xml](./configs/HawaiiAlosDT598/reference.xml)\n",
    "   - [secondary.xml](./configs/HawaiiAlosDT598/secondary.xml)\n",
    "   - [stripmapApp.xml](./configs/HawaiiAlosDT598/stripmapApp.xml)\n",
    "\n",
    "#### Run `stripmapApp.py`\n",
    "\n",
    "1. Run `stripmapApp.py stripmapApp.xml --end=misregistration`\n",
    "\n",
    "   - misreg: az = 0.5257771849755031\n",
    "   - misreg: rg = 0.989622119090436\n",
    "\n",
    "\n",
    "2. Coregister using geometry without refinement. \n",
    "\n",
    "   - Set values to zero in `misreg/misreg_rg.xml` and `misreg/misreg_az.xml` file.\n",
    "   - Run `stripmapApp.py stripmapApp.xml --start=refined_resample`\n",
    "   - Rename resulting interferograms for backup\n",
    "\n",
    "\n",
    "3. Coregister using geometry with ancillary-based refinement\n",
    "\n",
    "   - Set values to ancillary-based prediction (0.6263) in `misreg/misreg_rg.xml` file.   # 0.8559\n",
    "   - Run `stripmapApp.py stripmapApp.xml --start=refined_resample`\n",
    "   - Rename resulting interferograms for backup\n"
   ]
  },
  {
   "cell_type": "code",
   "execution_count": 10,
   "id": "d40cb59c",
   "metadata": {},
   "outputs": [
    {
     "name": "stdout",
     "output_type": "stream",
     "text": [
      "Go to directory: /Users/yunjunz/data/geolocation/HawaiiAlosDT598/\n"
     ]
    }
   ],
   "source": [
    "%matplotlib inline\n",
    "import os\n",
    "import numpy as np\n",
    "import datetime as dt\n",
    "from scipy import interpolate\n",
    "from osgeo import gdal\n",
    "from matplotlib import pyplot as plt\n",
    "from mintpy.objects import sensor\n",
    "from mintpy.utils import readfile, utils as ut\n",
    "from mintpy import tropo_pyaps3 as tropo\n",
    "import pyaps3 as pa\n",
    "import pysolid\n",
    "from tools.simulation import iono\n",
    "\n",
    "proj_dir = os.path.expanduser('~/data/geolocation/HawaiiAlosDT598/')\n",
    "os.chdir(proj_dir)\n",
    "print('Go to directory:', proj_dir)\n",
    "\n",
    "# ALOS info\n",
    "c = 299792458\n",
    "f0 = 1269999750.0604727\n",
    "rg_pixel_size = sensor.SENSOR_DICT['alos']['range_pixel_size']['stripmap_FBD']"
   ]
  },
  {
   "cell_type": "code",
   "execution_count": 11,
   "id": "4c63cb53",
   "metadata": {},
   "outputs": [],
   "source": [
    "# geometry: lat/lon/inc_angle\n",
    "lat_file = os.path.join(proj_dir, 'geometry', 'lat.rdr')\n",
    "lon_file = os.path.join(proj_dir, 'geometry', 'lon.rdr')\n",
    "los_file = os.path.join(proj_dir, 'geometry', 'los.rdr')\n",
    "hgt_file = os.path.join(proj_dir, 'geometry', 'z.rdr')\n",
    "lat = np.nanmedian(readfile.read(lat_file)[0])\n",
    "lon = np.nanmedian(readfile.read(lon_file)[0])\n",
    "hgt = np.nanmedian(readfile.read(hgt_file)[0])\n",
    "inc_angle = np.nanmedian(readfile.read(los_file, datasetName='incidenceAngle')[0])\n",
    "az_angle  = np.nanmedian(readfile.read(los_file, datasetName='azimuthAngle')[0])"
   ]
  },
  {
   "cell_type": "code",
   "execution_count": 18,
   "id": "389b1d06",
   "metadata": {},
   "outputs": [
    {
     "name": "stdout",
     "output_type": "stream",
     "text": [
      "ionospheric range offset: 5.811 m / 0.620 pixel\n"
     ]
    }
   ],
   "source": [
    "## Ionosphere\n",
    "\n",
    "# time:\n",
    "tmid = dt.datetime.fromisoformat('2011-03-06T20:32:43.389354')\n",
    "tmin = tmid.hour * 60 + tmid.minute + tmid.second / 60\n",
    "\n",
    "# geometry: lat/lon/inc_angle at the ionosphere shell\n",
    "iono_height = 450e3\n",
    "iono_inc_angle = iono.incidence_angle_ground2iono(inc_angle, iono_height=iono_height)\n",
    "iono_lat, iono_lon = iono.lalo_ground2iono(lat, lon, inc_angle=inc_angle, az_angle=az_angle)\n",
    "\n",
    "# geometry: JHR GIM grid\n",
    "lats = np.arange(-90, 90, step=1) + 0.5\n",
    "lons = np.arange(-180, 180, step=1) + 0.5\n",
    "mins = np.arange(0, 24*60, step=15) + 7.5\n",
    "time_ind = np.argmin(np.abs(mins - tmin))\n",
    "\n",
    "# calculation/interpolation\n",
    "tec_vals = []\n",
    "fnames = [os.path.join(proj_dir, 'GIM', x) for x in ['jpli0190.11i.nc', 'jpli0650.11i.nc']]\n",
    "for fname in fnames:\n",
    "    ds = gdal.Open(fname, gdal.GA_ReadOnly)\n",
    "    tec_map = gdal.Open(ds.GetSubDatasets()[0][0]).ReadAsArray()\n",
    "    tec_val = interpolate.interp2d(lons, lats, tec_map[time_ind, :, :], kind='linear')(iono_lon, iono_lat)[0]\n",
    "    tec_vals.append(tec_val)\n",
    "tec_diff = np.diff(tec_vals)[0]\n",
    "iono_off = iono.vtec2range_delay(tec_diff, iono_inc_angle, f0)\n",
    "print('ionospheric range offset: {:.3f} m / {:.3f} pixel'.format(iono_off, iono_off / rg_pixel_size))"
   ]
  },
  {
   "cell_type": "code",
   "execution_count": 13,
   "id": "786bb410",
   "metadata": {},
   "outputs": [
    {
     "name": "stdout",
     "output_type": "stream",
     "text": [
      "PYSOLID: calculate solid Earth tides in east/north/up direction\n",
      "PYSOLID: lot/lon: 19.50479061273407/-154.98311663649145 degree\n",
      "PYSOLID: start UTC: 2011-01-19T20:32:44\n",
      "PYSOLID: end   UTC: 2011-03-06T20:32:59\n",
      "PYSOLID: time step: 15 seconds\n",
      "SET range offset: 0.005 m / 0.001 pixel\n"
     ]
    }
   ],
   "source": [
    "## Solid earth tide\n",
    "dt_obj0 = dt.datetime(2011, 1, 19, 20, 32, 44)\n",
    "dt_obj1 = dt.datetime(2011, 3, 6,  20, 32, 44) + dt.timedelta(seconds=15)\n",
    "step_sec = 15\n",
    "\n",
    "# calculate\n",
    "(dt_out,\n",
    " tide_e,\n",
    " tide_n,\n",
    " tide_u) = pysolid.calc_solid_earth_tides_point(lat, lon, dt_obj0, dt_obj1, step_sec=step_sec, verbose=False)\n",
    "tide_e = tide_e[-1] - tide_e[0]\n",
    "tide_n = tide_n[-1] - tide_n[0]\n",
    "tide_u = tide_u[-1] - tide_u[0]\n",
    "tide_los = ut.enu2los(tide_e, tide_n, tide_u, inc_angle=inc_angle, az_angle=az_angle)\n",
    "tide_off = np.abs(tide_los)\n",
    "print('SET range offset: {:.3f} m / {:.3f} pixel'.format(tide_off, tide_off / rg_pixel_size))"
   ]
  },
  {
   "cell_type": "code",
   "execution_count": 14,
   "id": "af58ec9c",
   "metadata": {},
   "outputs": [
    {
     "name": "stdout",
     "output_type": "stream",
     "text": [
      "\n",
      "------------------------------------------------------------------------------\n",
      "downloading weather model data using PyAPS ...\n",
      "common file size: 386280 bytes\n",
      "number of grib files existed    : 2\n",
      "number of grib files to download: 0\n",
      "------------------------------------------------------------------------------\n",
      "\n",
      "tropospheric range offset: 0.052 m / 0.005 pixel\n"
     ]
    }
   ],
   "source": [
    "## Troposphere\n",
    "date_list = ['20110119', '20110306']\n",
    "snwe = [15, 25, -160, -150]\n",
    "grib_dir = os.path.join(os.path.expandvars('$WEATHER_DIR'), 'ERA5')\n",
    "grib_files = tropo.get_grib_filenames(date_list=date_list, hour=21, model='ERA5', grib_dir=grib_dir, snwe=snwe)\n",
    "grib_files = tropo.dload_grib_files(grib_files, tropo_model='ERA5', snwe=snwe)\n",
    "tropo_los = np.zeros(2, dtype=np.float32)\n",
    "for i, grib_file in enumerate(grib_files):\n",
    "    tropo_los[i] = tropo.get_delay(grib_file, tropo_model='ERA5', delay_type='comb',\n",
    "                                   dem=np.array(hgt, dtype=np.float32).reshape(1,1),\n",
    "                                   inc=np.array(inc_angle, dtype=np.float32).reshape(1,1),\n",
    "                                   lat=np.array(lat, dtype=np.float32).reshape(1,1),\n",
    "                                   lon=np.array(lon, dtype=np.float32).reshape(1,1))\n",
    "tropo_off = np.abs(np.diff(tropo_los))[0]\n",
    "print('tropospheric range offset: {:.3f} m / {:.3f} pixel'.format(tropo_off, tropo_off / rg_pixel_size))"
   ]
  },
  {
   "cell_type": "code",
   "execution_count": 16,
   "id": "7b85073c",
   "metadata": {},
   "outputs": [
    {
     "name": "stdout",
     "output_type": "stream",
     "text": [
      "total range offset: 5.8680 m / 0.6263 pixel\n",
      "temporal baseline: 46 days\n",
      "relative accuracy in range   direction: 0.36 pixel\n",
      "relative accuracy in azimuth direction: 0.53 pixel\n"
     ]
    }
   ],
   "source": [
    "rg_off = iono_off + tide_off + tropo_off\n",
    "print('total range offset: {:.4f} m / {:.4f} pixel'.format(rg_off, rg_off / rg_pixel_size))\n",
    "print('temporal baseline: {} days'.format((dt_obj1 - dt_obj0).days))\n",
    "print('relative accuracy in range   direction: {:.2f} pixel'.format(0.9896 - rg_off / rg_pixel_size))\n",
    "print('relative accuracy in azimuth direction: {:.2f} pixel'.format(0.5258))"
   ]
  },
  {
   "cell_type": "code",
   "execution_count": null,
   "id": "92d88650",
   "metadata": {},
   "outputs": [],
   "source": []
  }
 ],
 "metadata": {
  "kernelspec": {
   "display_name": "Python 3 (ipykernel)",
   "language": "python",
   "name": "python3"
  },
  "language_info": {
   "codemirror_mode": {
    "name": "ipython",
    "version": 3
   },
   "file_extension": ".py",
   "mimetype": "text/x-python",
   "name": "python",
   "nbconvert_exporter": "python",
   "pygments_lexer": "ipython3",
   "version": "3.10.4"
  }
 },
 "nbformat": 4,
 "nbformat_minor": 5
}
