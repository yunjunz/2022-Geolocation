{
 "cells": [
  {
   "cell_type": "markdown",
   "id": "58fd789a",
   "metadata": {},
   "source": [
    "## Geolocation Error Budget for NISAR\n",
    "\n",
    "Incidence angle = 42 degree"
   ]
  },
  {
   "cell_type": "code",
   "execution_count": 1,
   "id": "c79af2d4",
   "metadata": {},
   "outputs": [],
   "source": [
    "%matplotlib inline\n",
    "import os\n",
    "import numpy as np\n",
    "from matplotlib import pyplot as plt\n",
    "from mintpy.utils import utils as ut\n",
    "from tools.simulation import iono\n",
    "\n",
    "inc_angle = 42 / 180 * np.pi"
   ]
  },
  {
   "cell_type": "code",
   "execution_count": 2,
   "id": "44aca28d",
   "metadata": {},
   "outputs": [
    {
     "name": "stdout",
     "output_type": "stream",
     "text": [
      "Iono: residual GIM: 0.240 +/- 1.545 m\n",
      "Iono: topside  TEC: 2.266 +/- 0.618 m\n"
     ]
    }
   ],
   "source": [
    "## ionosphere\n",
    "# residual ionosphere based on the bias/uncertainty of GIM\n",
    "# reference: Hernandez et al. (2009, Table I)\n",
    "# note that we are using JHR GIM rather than JLR GIM, which from our study here at least, JHR is significantly better than JLR.\n",
    "tec_jlr = [0.7, 4.5]     # mean and STD in TECUm\n",
    "iono_delay_L = iono.vtec2range_delay(tec_jlr, inc_angle=42, freq=iono.SAR_BAND['L'])\n",
    "iono_delay_S = iono.vtec2range_delay(tec_jlr, inc_angle=42, freq=iono.SAR_BAND['S'])\n",
    "print('Iono: residual GIM: {:.3f} +/- {:.3f} m'.format(iono_delay_L[0], iono_delay_L[1]))\n",
    "\n",
    "# worse case scenario spatially based on total TEC and the map of snapshot of topTECs\n",
    "top_tec = [6.6, 1.8]\n",
    "top_tec_delay_L = iono.vtec2range_delay(top_tec, inc_angle=42, freq=iono.SAR_BAND['L'])\n",
    "top_tec_delay_S = iono.vtec2range_delay(top_tec, inc_angle=42, freq=iono.SAR_BAND['S'])\n",
    "print('Iono: topside  TEC: {:.3f} +/- {:.3f} m'.format(top_tec_delay_L[0], top_tec_delay_L[1]))"
   ]
  },
  {
   "cell_type": "code",
   "execution_count": 3,
   "id": "ba23c759",
   "metadata": {},
   "outputs": [
    {
     "name": "stdout",
     "output_type": "stream",
     "text": [
      "Tropo: 0.040 +/- 0.050 m\n"
     ]
    }
   ],
   "source": [
    "## residual troposphere\n",
    "# mean: +/- 3 cm in zenith direction (Yu et al., 2021, Fig. 1a1)\n",
    "# STD:  +/- 5 cm in LOS    direction (Fattahi & Amelung, 2015, sec 4.2.2)\n",
    "tropo = np.array([0.03 / np.cos(inc_angle), 0.05], dtype=np.float32)\n",
    "print('Tropo: {:.3f} +/- {:.3f} m'.format(tropo[0], tropo[1]))"
   ]
  },
  {
   "cell_type": "code",
   "execution_count": 4,
   "id": "cf097ebd",
   "metadata": {},
   "outputs": [
    {
     "name": "stdout",
     "output_type": "stream",
     "text": [
      "Earth motion: 0.000 +/- 0.044 m\n"
     ]
    }
   ],
   "source": [
    "## uncompensated tidal effects\n",
    "OTL_ENU = np.array([0.0100, 0.0100, 0.0500], dtype=np.float32)    # reference: Martens et al. (2016); Gisinger (0.01, 0.01, 0.05)\n",
    "PT_ENU  = np.array([0.0035, 0.0035, 0.0125], dtype=np.float32)    # reference: Petit & Luzum (2010)\n",
    "ATM_ENU = np.array([0.0005, 0.0005, 0.0050], dtype=np.float32)    # reference: Dong et al. (2002)\n",
    "OTL_LOS = ut.enu2los(OTL_ENU[0], OTL_ENU[1], OTL_ENU[2], inc_angle=inc_angle*180/np.pi, az_angle=-102)\n",
    "PT_LOS  = ut.enu2los( PT_ENU[0],  PT_ENU[1],  PT_ENU[2], inc_angle=inc_angle*180/np.pi, az_angle=-102)\n",
    "ATM_LOS = ut.enu2los(ATM_ENU[0], ATM_ENU[1], ATM_ENU[2], inc_angle=inc_angle*180/np.pi, az_angle=-102)\n",
    "EM_LOS = np.sqrt(OTL_LOS**2 + PT_LOS**2 + ATM_LOS**2, dtype=np.float32)\n",
    "print('Earth motion: 0.000 +/- {:.3f} m'.format(EM_LOS))"
   ]
  },
  {
   "cell_type": "code",
   "execution_count": 5,
   "id": "63632261",
   "metadata": {},
   "outputs": [
    {
     "name": "stdout",
     "output_type": "stream",
     "text": [
      "Orbital error: 0.005 +/- 0.030 m\n"
     ]
    }
   ],
   "source": [
    "## orbital error\n",
    "# reference: Peter et al. (2017)\n",
    "orb_s1 = np.array([0.005, 0.030], dtype=np.float32)\n",
    "print('Orbital error: {:.3f} +/- {:.3f} m'.format(orb_s1[0], orb_s1[1]))"
   ]
  },
  {
   "cell_type": "code",
   "execution_count": 6,
   "id": "201836ed",
   "metadata": {},
   "outputs": [
    {
     "name": "stdout",
     "output_type": "stream",
     "text": [
      "DEM error: 4.442 +/- 0.002 m\n"
     ]
    }
   ],
   "source": [
    "## DEM error\n",
    "# reference: 1. NISAR handbook;  2. Sansosti et al. (2006, Eq. 30);  3. Jung et al. (2019, Eq. 8);  4. Fahrland et al. (2020)\n",
    "# Copernicus global DEM accuracy: https://spacedata.copernicus.eu/web/cscda/dataset-details?articleId=394198\n",
    "rg = 980e3       # m, NISAR\n",
    "bperp_max = 350  # m\n",
    "dem_err = 4      # m, absolute vertical accuracy\n",
    "dem_LOS_rel = dem_err * bperp_max / (rg * np.sin(inc_angle)) * 1\n",
    "dem_LOS_abs = dem_err / np.tan(inc_angle)\n",
    "dem_LOS = np.array([dem_LOS_abs, dem_LOS_rel], dtype=np.float32)\n",
    "print('DEM error: {:.3f} +/- {:.3f} m'.format(dem_LOS[0], dem_LOS[1]))"
   ]
  },
  {
   "cell_type": "code",
   "execution_count": 7,
   "id": "198c946d",
   "metadata": {},
   "outputs": [
    {
     "name": "stdout",
     "output_type": "stream",
     "text": [
      "NISAR L-band:\n",
      "  Iono residual GIM: 0.240 +/- 1.545 m\n",
      "  Iono topside  TEC: 2.266 +/- 0.618 m\n",
      "  Tropo            : 0.040 +/- 0.050 m\n",
      "  Tidal residual   : 0.000 +/- 0.044 m\n",
      "  Orbital error    : 0.005 +/- 0.030 m\n",
      "  DEM error        : 4.442 +/- 0.002 ms\n",
      "  Overall (L-band) : 4.993 +/- 1.665 m\n",
      "NISAR S-band:\n",
      "  Iono residual GIM: 0.037 +/- 0.238 m\n",
      "  Iono topside  TEC: 0.350 +/- 0.095 m\n",
      "  ...\n",
      "  Overall (S-band) : 4.457 +/- 0.267 m\n"
     ]
    }
   ],
   "source": [
    "geoloc_L = np.sqrt(iono_delay_L**2 + top_tec_delay_L**2 + tropo**2 + EM_LOS**2 + orb_s1**2 + dem_LOS**2)\n",
    "print('NISAR L-band:')\n",
    "print('  Iono residual GIM: {:.3f} +/- {:.3f} m'.format(iono_delay_L[0], iono_delay_L[1]))\n",
    "print('  Iono topside  TEC: {:.3f} +/- {:.3f} m'.format(top_tec_delay_L[0], top_tec_delay_L[1]))\n",
    "print('  Tropo            : {:.3f} +/- {:.3f} m'.format(tropo[0], tropo[1]))\n",
    "print('  Tidal residual   : 0.000 +/- {:.3f} m'.format(EM_LOS))\n",
    "print('  Orbital error    : {:.3f} +/- {:.3f} m'.format(orb_s1[0], orb_s1[1]))\n",
    "print('  DEM error        : {:.3f} +/- {:.3f} ms'.format(dem_LOS[0], dem_LOS[1]))\n",
    "print('  Overall (L-band) : {:.3f} +/- {:.3f} m'.format(geoloc_L[0], geoloc_L[1]))\n",
    "\n",
    "geoloc_S = np.sqrt(iono_delay_S**2 + top_tec_delay_S**2 + tropo**2 + EM_LOS**2 + orb_s1**2 + dem_LOS**2)\n",
    "print('NISAR S-band:')\n",
    "print('  Iono residual GIM: {:.3f} +/- {:.3f} m'.format(iono_delay_S[0], iono_delay_S[1]))\n",
    "print('  Iono topside  TEC: {:.3f} +/- {:.3f} m'.format(top_tec_delay_S[0], top_tec_delay_S[1]))\n",
    "print('  ...')\n",
    "print('  Overall (S-band) : {:.3f} +/- {:.3f} m'.format(geoloc_S[0], geoloc_S[1]))"
   ]
  }
 ],
 "metadata": {
  "kernelspec": {
   "display_name": "Python 3",
   "language": "python",
   "name": "python3"
  },
  "language_info": {
   "codemirror_mode": {
    "name": "ipython",
    "version": 3
   },
   "file_extension": ".py",
   "mimetype": "text/x-python",
   "name": "python",
   "nbconvert_exporter": "python",
   "pygments_lexer": "ipython3",
   "version": "3.7.9"
  }
 },
 "nbformat": 4,
 "nbformat_minor": 5
}
