{
 "cells": [
  {
   "cell_type": "markdown",
   "metadata": {},
   "source": [
    "## Overall Statistics using boxplot"
   ]
  },
  {
   "cell_type": "code",
   "execution_count": 7,
   "metadata": {},
   "outputs": [
    {
     "name": "stdout",
     "output_type": "stream",
     "text": [
      "Go to directory: /Users/yunjunz/Papers/2021_Geolocation/figs_src/stats_box\n"
     ]
    }
   ],
   "source": [
    "%matplotlib inline\n",
    "import os\n",
    "import datetime as dt\n",
    "import numpy as np\n",
    "import seaborn as sns\n",
    "import pandas as pd\n",
    "from scipy import stats\n",
    "from matplotlib import pyplot as plt, ticker, gridspec\n",
    "from mintpy.objects import timeseries\n",
    "from mintpy.utils import ptime, readfile, utils as ut, plot as pp\n",
    "from mintpy import tsview\n",
    "from ipynb.fs.full import utils\n",
    "plt.rcParams.update({'font.size': 12})\n",
    "#plt.rcParams.update({'lines.linewidth': 3.0})\n",
    "\n",
    "work_dir = os.path.expanduser('~/Papers/2021_Geolocation/figs_src/stats_box')\n",
    "os.chdir(work_dir)\n",
    "print('Go to directory:', work_dir)\n",
    "\n",
    "proj_dirs = [\n",
    "    os.path.expanduser('~/data/geolocation/KyushuAlos2DT23'),\n",
    "    os.path.expanduser('~/data/geolocation/ChileSenAT149'),\n",
    "    os.path.expanduser('~/data/geolocation/ChileSenDT156'),\n",
    "]"
   ]
  },
  {
   "cell_type": "code",
   "execution_count": 71,
   "metadata": {},
   "outputs": [],
   "source": [
    "# utils func\n",
    "def read_data(proj_dir):\n",
    "    proj_name = os.path.basename(proj_dir)\n",
    "    lalo = [-21.30, -67.39] if proj_name.startswith('ChileSen') else None\n",
    "\n",
    "    ### data files\n",
    "    fnames = [\n",
    "        os.path.join(proj_dir, 'mintpy_offset', 'timeseriesRg.h5'),\n",
    "        os.path.join(proj_dir, 'mintpy_offset', 'timeseriesRg_gimTEC.h5'),\n",
    "        os.path.join(proj_dir, 'mintpy_offset', 'timeseriesRg_gimTEC_SET.h5'),\n",
    "        os.path.join(proj_dir, 'mintpy_offset', 'timeseriesRg_gimTEC_SET_ERA5.h5'),\n",
    "    ]\n",
    "    geom_file = os.path.join(proj_dir, 'mintpy_offset', 'inputs/geometryRadar.h5')\n",
    "    mask_file = os.path.join(proj_dir, 'mintpy_offset', 'maskResInv.h5')\n",
    "\n",
    "    # date info\n",
    "    date_list = timeseries(fnames[0]).get_date_list()\n",
    "    num_date = len(date_list)\n",
    "\n",
    "    # lalo --> box\n",
    "    if lalo is None:\n",
    "        box = None\n",
    "    else:\n",
    "        atr = readfile.read_attribute(fnames[0])\n",
    "        coord = ut.coordinate(atr, lookup_file=geom_file)\n",
    "        y, x = coord.geo2radar(lalo[0], lalo[1])[:2]\n",
    "        win = 5\n",
    "        box = (x-win, y-win, x+win+1, y+win+1)\n",
    "\n",
    "    # read data into iDict\n",
    "    data_list = []\n",
    "    label_list = []\n",
    "    mask = readfile.read(mask_file, box=box)[0].flatten()\n",
    "    for fname in fnames:\n",
    "        # label\n",
    "        fbase = os.path.basename(fname).replace('timeseriesRg', 'SAR').replace('.h5', '')\n",
    "        label = ' - '.join(fbase.split('_'))\n",
    "        label_list.append(label)\n",
    "    \n",
    "        # read data\n",
    "        ts_data = readfile.read(fname, box=box)[0].reshape(num_date, -1)\n",
    "        ts_data[:, mask==0] = np.nan\n",
    "        ts_med = np.nanmedian(ts_data, axis=-1)\n",
    "        ts_med -= np.nanmedian(ts_med)\n",
    "        data_list.append(ts_med)\n",
    "\n",
    "    # reverse for horizontal boxplot\n",
    "    #data_list.reverse()\n",
    "    #label_list.reverse()\n",
    "    print('min/max: {:.1f} / {:.1f} m'.format(np.nanmin(data_list), np.nanmax(data_list)))\n",
    "\n",
    "    return proj_name, data_list, label_list"
   ]
  },
  {
   "cell_type": "markdown",
   "metadata": {},
   "source": [
    "## Read Data"
   ]
  },
  {
   "cell_type": "code",
   "execution_count": 72,
   "metadata": {},
   "outputs": [
    {
     "name": "stdout",
     "output_type": "stream",
     "text": [
      "min/max: -2.5 / 11.1 m\n",
      "min/max: -0.7 / 0.3 m\n",
      "min/max: -0.5 / 0.9 m\n"
     ]
    }
   ],
   "source": [
    "proj_names = []\n",
    "data_lists = []\n",
    "label_lists = []\n",
    "for proj_dir in proj_dirs:\n",
    "    proj_name, data_list, label_list = read_data(proj_dir)\n",
    "    proj_names.append(proj_name)\n",
    "    data_lists.append(data_list)\n",
    "    label_lists.append(label_list)"
   ]
  },
  {
   "cell_type": "markdown",
   "metadata": {},
   "source": [
    "## Plot"
   ]
  },
  {
   "cell_type": "code",
   "execution_count": 93,
   "metadata": {},
   "outputs": [
    {
     "name": "stdout",
     "output_type": "stream",
     "text": [
      "save figure to file /Users/yunjunz/Papers/2021_Geolocation/figs_src/stats_box/KyushuAlos2DT23v.pdf\n",
      "save figure to file /Users/yunjunz/Papers/2021_Geolocation/figs_src/stats_box/ChileSenAT149v.pdf\n",
      "save figure to file /Users/yunjunz/Papers/2021_Geolocation/figs_src/stats_box/ChileSenDT156v.pdf\n"
     ]
    },
    {
     "data": {
      "image/png": "[encoded data removed]",
      "text/plain": [
       "<Figure size 252x144 with 1 Axes>"
      ]
     },
     "metadata": {
      "needs_background": "light"
     },
     "output_type": "display_data"
    },
    {
     "data": {
      "image/png": "[encoded data removed]",
      "text/plain": [
       "<Figure size 252x144 with 1 Axes>"
      ]
     },
     "metadata": {
      "needs_background": "light"
     },
     "output_type": "display_data"
    },
    {
     "data": {
      "image/png": "[encoded data removed]",
      "text/plain": [
       "<Figure size 252x144 with 1 Axes>"
      ]
     },
     "metadata": {
      "needs_background": "light"
     },
     "output_type": "display_data"
    }
   ],
   "source": [
    "for i, (proj_name, data_list, label_list) in enumerate(zip(proj_names, data_lists, label_lists)):\n",
    "    if proj_name.startswith('ChileSen'):\n",
    "        vlim = [-0.9, 1.0];  vstep = 1.0; vstepm = 0.2\n",
    "    else:\n",
    "        vlim = [-2.8, 11.8]; vstep = 3.0; vstepm = 1.0\n",
    "\n",
    "    fig, ax = plt.subplots(figsize=[3.5, 2])\n",
    "    bplot = ax.boxplot(data_list, vert=True, widths=0.6, whis=(0, 100), patch_artist=True, labels=label_list,\n",
    "                       medianprops=dict(color='k'))\n",
    "    # fill box with colors\n",
    "    for patch, c in zip(bplot['boxes'], ['C3', 'C2', 'C1', 'C0']):  patch.set_facecolor('none')\n",
    "\n",
    "    # axis format\n",
    "    ax.tick_params(which='both', direction='in', bottom=False, top=False, left=True, right=True)\n",
    "    #ax.set_xlabel('slant range offset [m]')\n",
    "    ax.set_ylim(vlim)\n",
    "    ax.yaxis.set_major_locator(ticker.MultipleLocator(vstep))\n",
    "    ax.yaxis.set_minor_locator(ticker.MultipleLocator(vstepm))\n",
    "    ax.set_xticklabels([])\n",
    "    fig.tight_layout()\n",
    "\n",
    "    # output\n",
    "    out_fig = os.path.join(work_dir, '{}v.pdf'.format(proj_name))\n",
    "    print('save figure to file', out_fig)\n",
    "    plt.savefig(out_fig, bbox_inches='tight', transparent=True, dpi=300)\n",
    "plt.show()"
   ]
  },
  {
   "cell_type": "markdown",
   "metadata": {},
   "source": [
    "## boxplot - horizontal version"
   ]
  },
  {
   "cell_type": "code",
   "execution_count": 70,
   "metadata": {
    "collapsed": true,
    "jupyter": {
     "outputs_hidden": true,
     "source_hidden": true
    }
   },
   "outputs": [
    {
     "name": "stdout",
     "output_type": "stream",
     "text": [
      "save figure to file /Users/yunjunz/Papers/2021_Geolocation/figs_src/stats_box/KyushuAlos2DT23.pdf\n",
      "save figure to file /Users/yunjunz/Papers/2021_Geolocation/figs_src/stats_box/ChileSenAT149.pdf\n",
      "save figure to file /Users/yunjunz/Papers/2021_Geolocation/figs_src/stats_box/ChileSenDT156.pdf\n"
     ]
    },
    {
     "data": {
      "image/png": "[encoded data removed]",
      "text/plain": [
       "<Figure size 180x144 with 1 Axes>"
      ]
     },
     "metadata": {
      "needs_background": "light"
     },
     "output_type": "display_data"
    },
    {
     "data": {
      "image/png": "[encoded data removed]",
      "text/plain": [
       "<Figure size 180x144 with 1 Axes>"
      ]
     },
     "metadata": {
      "needs_background": "light"
     },
     "output_type": "display_data"
    },
    {
     "data": {
      "image/png": "[encoded data removed]",
      "text/plain": [
       "<Figure size 180x144 with 1 Axes>"
      ]
     },
     "metadata": {
      "needs_background": "light"
     },
     "output_type": "display_data"
    }
   ],
   "source": [
    "for i, (proj_name, data_list, label_list) in enumerate(zip(proj_names, data_lists, label_lists)):\n",
    "    if proj_name.startswith('ChileSen'):\n",
    "        vlim = [-0.9, 1.0];  vstep = 0.5; vstepm = 0.1\n",
    "    else:\n",
    "        vlim = [-4.0, 12.0]; vstep = 3.0; vstepm = 1.0\n",
    "\n",
    "    fig, ax = plt.subplots(figsize=[2.5, 2])\n",
    "    bplot = ax.boxplot(data_list, vert=False, widths=0.6, whis=(0, 100), patch_artist=True, labels=label_list)\n",
    "    # fill box with colors\n",
    "    for patch, c in zip(bplot['boxes'], ['C3', 'C2', 'C1', 'C0']):  patch.set_facecolor('none')\n",
    "\n",
    "    # axis format\n",
    "    ax.tick_params(which='both', direction='in', bottom=True, top=True, left=False, right=False)\n",
    "    #ax.set_xlabel('slant range offset [m]')\n",
    "    ax.set_xlim(vlim)\n",
    "    ax.xaxis.set_major_locator(ticker.MultipleLocator(vstep))\n",
    "    ax.xaxis.set_minor_locator(ticker.MultipleLocator(vstepm))\n",
    "    ax.set_yticklabels([])\n",
    "    fig.tight_layout()\n",
    "\n",
    "    # output\n",
    "    out_fig = os.path.join(work_dir, '{}.pdf'.format(proj_name))\n",
    "    print('save figure to file', out_fig)\n",
    "    plt.savefig(out_fig, bbox_inches='tight', transparent=True, dpi=300)\n",
    "plt.show()"
   ]
  },
  {
   "cell_type": "code",
   "execution_count": null,
   "metadata": {},
   "outputs": [],
   "source": []
  }
 ],
 "metadata": {
  "kernelspec": {
   "display_name": "Python 3",
   "language": "python",
   "name": "python3"
  },
  "language_info": {
   "codemirror_mode": {
    "name": "ipython",
    "version": 3
   },
   "file_extension": ".py",
   "mimetype": "text/x-python",
   "name": "python",
   "nbconvert_exporter": "python",
   "pygments_lexer": "ipython3",
   "version": "3.7.9"
  }
 },
 "nbformat": 4,
 "nbformat_minor": 4
}
