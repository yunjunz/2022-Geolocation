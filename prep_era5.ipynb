{
 "cells": [
  {
   "cell_type": "markdown",
   "metadata": {},
   "source": [
    "## Predicated range delay from troposphere based on ERA5\n",
    "\n",
    "+ ERA5\n",
    "  - 0.25 deg spatial resolution\n",
    "  - 1-hour temporal resolution\n",
    "\n",
    "\n",
    "+ reference geometry:\n",
    "  - use incidence angle, latitude and longitude of the scene center\n",
    "  - use terrain height for vertical integration.\n",
    "\n",
    "\n",
    "+ tropospheric components:\n",
    "  - Dry troposphere: large absolute value with little variation\n",
    "  - Wet troposphere: small absolute value with large  variation\n",
    "  - comb (dry + wet) delay is used."
   ]
  },
  {
   "cell_type": "code",
   "execution_count": 1,
   "metadata": {},
   "outputs": [
    {
     "name": "stdout",
     "output_type": "stream",
     "text": [
      "Go to directory /Users/yunjunz/data/ChileSenAT149\n"
     ]
    }
   ],
   "source": [
    "%matplotlib inline\n",
    "import os\n",
    "import pickle\n",
    "import numpy as np\n",
    "from matplotlib import pyplot as plt\n",
    "from mintpy.objects import timeseries\n",
    "from mintpy.utils import ptime, readfile, utils as ut, plot as pp, isce_utils\n",
    "from mintpy import tropo_pyaps3, view\n",
    "import pyaps3 as pa\n",
    "plt.rcParams.update({'font.size': 12})\n",
    "figsize = [9, 3]\n",
    "\n",
    "\n",
    "box = (10, 55, 20, 70);   box_suffix = 'boxCL'   # box in the center left with low  altitude\n",
    "#box = (85, 25, 145, 70);  box_suffix = 'boxCC'   # box to read for range offset in (x0, y0, x1, y1)\n",
    "box = (200, 15, 215, 30); box_suffix = 'boxLR'   # box in the lower right with high altitude\n",
    "\n",
    "proj_dir = '/Users/yunjunz/data/ChileSenAT149'\n",
    "os.chdir(proj_dir)\n",
    "print('Go to directory', proj_dir)\n",
    "\n",
    "out_file = os.path.join(proj_dir, 'offset_comp', box_suffix ,'era5.pickle')"
   ]
  },
  {
   "cell_type": "markdown",
   "metadata": {},
   "source": [
    "### 1. calc tropo delay based on `terrain height` and `real DEM`"
   ]
  },
  {
   "cell_type": "code",
   "execution_count": 2,
   "metadata": {},
   "outputs": [
    {
     "name": "stdout",
     "output_type": "stream",
     "text": [
      "extract metadata from ISCE/topsStack xml file: /Users/yunjunz/data/ChileSenAT149/reference/IW1.xml\n",
      "This is the Open Source version of ISCE.\n",
      "Some of the workflows depend on a separate licensed package.\n",
      "To obtain the licensed package, please make a request for ISCE\n",
      "through the website: https://download.jpl.nasa.gov/ops/request/index.cfm.\n",
      "Alternatively, if you are a member, or can become a member of WinSAR\n",
      "you may be able to obtain access to a version of the licensed sofware at\n",
      "https://winsar.unavco.org/software/isce\n",
      "terrain height: 2176.0 m\n",
      "file already exists: /Users/yunjunz/data/ChileSenAT149/mintpyOffset/inputs/ERA5.h5\n",
      "file already exists: /Users/yunjunz/data/ChileSenAT149/mintpyOffset/inputs/ERA5_dry.h5\n",
      "file already exists: /Users/yunjunz/data/ChileSenAT149/mintpyOffset/inputs/ERA5_wet.h5\n",
      "file already exists: /Users/yunjunz/data/ChileSenAT149/mintpyOffset/inputs/ERA5_constHgt.h5\n",
      "file already exists: /Users/yunjunz/data/ChileSenAT149/mintpyOffset/inputs/ERA5_constHgt_dry.h5\n",
      "file already exists: /Users/yunjunz/data/ChileSenAT149/mintpyOffset/inputs/ERA5_constHgt_wet.h5\n",
      "Done.\n"
     ]
    }
   ],
   "source": [
    "# required input files\n",
    "ts_files = [\n",
    "    os.path.join(proj_dir, 'mintpyOffset/inputs/ERA5.h5'),\n",
    "    os.path.join(proj_dir, 'mintpyOffset/inputs/ERA5_dry.h5'),\n",
    "    os.path.join(proj_dir, 'mintpyOffset/inputs/ERA5_wet.h5'),\n",
    "    os.path.join(proj_dir, 'mintpyOffset/inputs/ERA5_constHgt.h5'),\n",
    "    os.path.join(proj_dir, 'mintpyOffset/inputs/ERA5_constHgt_dry.h5'),\n",
    "    os.path.join(proj_dir, 'mintpyOffset/inputs/ERA5_constHgt_wet.h5'),\n",
    "]\n",
    "geom_file = os.path.join(proj_dir, 'mintpyOffset/inputs/geometryRadar.h5')\n",
    "\n",
    "# get terrain height\n",
    "xml_file = os.path.join(proj_dir, 'reference/IW1.xml')\n",
    "burst = isce_utils.extract_isce_metadata(xml_file)[1]\n",
    "print('terrain height: {} m'.format(burst.terrainHeight))\n",
    "\n",
    "# calculate absolute tropospheric delay from ERA5\n",
    "delay_types = ['comb', 'dry', 'wet']\n",
    "for i in range(len(ts_files)):\n",
    "    ts_file = ts_files[i]\n",
    "    if not os.path.isfile(ts_file):\n",
    "        sar_file = os.path.join(proj_dir, 'mintpyOffset/timeseriesRg.h5')\n",
    "        iargs = ['-f', sar_file,\n",
    "                 '-g', geom_file,\n",
    "                 '--delay', delay_types[i],\n",
    "                 '--tropo-file', ts_file]\n",
    "\n",
    "        # calculate delay with fix elevatio to the terrain height\n",
    "        if 'constHgt' in ts_file:\n",
    "            iargs += ['--custom-height', str(burst.terrainHeight)]\n",
    "\n",
    "        print('tropo_pyaps3.py', ' '.join(iargs))\n",
    "        tropo_pyaps3.main(iargs)\n",
    "    else:\n",
    "        print('file already exists: {}'.format(ts_files[i]))\n",
    "print('Done.')\n",
    "\n",
    "# plot the real DEM for reference\n",
    "#view.main([geom_file, 'height', '--zero-mask'])"
   ]
  },
  {
   "cell_type": "markdown",
   "metadata": {},
   "source": [
    "### 2. save to pickle file"
   ]
  },
  {
   "cell_type": "code",
   "execution_count": 3,
   "metadata": {},
   "outputs": [
    {
     "name": "stdout",
     "output_type": "stream",
     "text": [
      "save data to file: /Users/yunjunz/data/ChileSenAT149/offset_comp/boxLR/era5.pickle\n"
     ]
    }
   ],
   "source": [
    "# read data\n",
    "date_list = timeseries(ts_files[0]).get_date_list()\n",
    "num_date = len(date_list)\n",
    "ts_data_list = []\n",
    "for ts_file in ts_files:\n",
    "    ts_data = readfile.read(ts_file, box=box)[0].reshape(num_date, -1)\n",
    "    # exclude pixels with no-valid data\n",
    "    ts_data[ts_data == 0] = np.nan\n",
    "    # reverse back the sign because it was reversed in tropo_pyaps3.py#L584\n",
    "    ts_data *= -1\n",
    "    ts_data_list.append(ts_data)\n",
    "\n",
    "# calculate median and mean\n",
    "atr = readfile.read_attribute(ts_files[0])\n",
    "length, width = int(atr['LENGTH']), int(atr['WIDTH'])\n",
    "ind_cen = int(length / 2) * width + int(width / 2)\n",
    "\n",
    "## compose off dict\n",
    "tropo = {}\n",
    "tropo['date'] = np.array(date_list)\n",
    "tropo['time'] = np.array(ptime.date_list2vector(date_list)[0])\n",
    "tropo['range_delay_tropo_med']     = np.nanmedian(ts_data_list[0], axis=-1)\n",
    "tropo['range_delay_tropo_med_dry'] = np.nanmedian(ts_data_list[1], axis=-1)\n",
    "tropo['range_delay_tropo_med_wet'] = np.nanmedian(ts_data_list[2], axis=-1)\n",
    "tropo['range_delay_tropo_mad']     = ut.median_abs_deviation(ts_data_list[0])\n",
    "tropo['range_delay_tropo_mad_dry'] = ut.median_abs_deviation(ts_data_list[1])\n",
    "tropo['range_delay_tropo_mad_wet'] = ut.median_abs_deviation(ts_data_list[2])\n",
    "\n",
    "## save off dict to pickle file\n",
    "os.makedirs(os.path.dirname(out_file), exist_ok=True)\n",
    "with open(out_file, 'wb') as f:\n",
    "    pickle.dump(tropo, f)\n",
    "    print('save data to file: {}'.format(out_file))"
   ]
  },
  {
   "cell_type": "markdown",
   "metadata": {},
   "source": [
    "### 3. plot (variation between dry and wet troposphere)"
   ]
  },
  {
   "cell_type": "code",
   "execution_count": 4,
   "metadata": {},
   "outputs": [
    {
     "name": "stdout",
     "output_type": "stream",
     "text": [
      "save figure to file /Users/yunjunz/data/ChileSenAT149/offset_comp/boxLR/era5.png\n"
     ]
    },
    {
     "data": {
      "image/png": "[encoded data removed]",
      "text/plain": [
       "<Figure size 648x216 with 2 Axes>"
      ]
     },
     "metadata": {},
     "output_type": "display_data"
    }
   ],
   "source": [
    "key_base = 'range_delay_tropo'\n",
    "n = 3\n",
    "\n",
    "x = tropo['time']\n",
    "y0 = tropo[key_base+'_med']\n",
    "y1 = tropo[key_base+'_med_dry']\n",
    "y2 = tropo[key_base+'_med_wet']\n",
    "y0_err = tropo[key_base+'_mad'] * n\n",
    "y1_err = tropo[key_base+'_mad_dry'] * n\n",
    "y2_err = tropo[key_base+'_mad_wet'] * n\n",
    "\n",
    "fig, ax = plt.subplots(nrows=1, ncols=1, figsize=figsize, sharex=True)\n",
    "# axis 1\n",
    "p2, = ax.plot(x, y1, '-', linewidth=1, color='C1', alpha=0.7)\n",
    "p0, = ax.plot(x, y0, '-', linewidth=4, color='C1')\n",
    "p1  = ax.fill_between(x, y0 - y0_err, y0 + y0_err, fc='C1', ec='none', alpha=0.2)\n",
    "\n",
    "# axis 1 format\n",
    "ax.tick_params(which='both', axis='y', colors='C1')\n",
    "pp.auto_adjust_xaxis_date(ax, x, every_year=1, buffer_year=None)\n",
    "ax.set_ylabel('delay [m]')\n",
    "\n",
    "# axis 2\n",
    "ax2 = ax.twinx()\n",
    "p3, = ax2.plot(x, y2, '-', linewidth=1, color='k')\n",
    "ax2.tick_params(which='both', axis='y', colors='k')\n",
    "\n",
    "# auto ylim\n",
    "ylim = ut.ceil_to_1(np.max(y0) - np.min(y0)) * 1.5\n",
    "ylim = 0.3\n",
    "ycen = np.mean(y1) + 0.05\n",
    "ax.set_ylim(ycen-ylim, ycen+ylim)\n",
    "ax2.set_ylim(0, ylim*2)\n",
    "\n",
    "ax.legend([(p0, p1), p2, p3], ['tropo (comb) +/- {} MAD'.format(n), \n",
    "                               'tropo (dry)',\n",
    "                               'tropo (wet)'],\n",
    "         frameon=False, loc='upper left')\n",
    "fig.tight_layout()\n",
    "\n",
    "# output\n",
    "out_fig = os.path.join(os.path.dirname(out_file), 'era5.png')\n",
    "print('save figure to file', out_fig)\n",
    "plt.savefig(out_fig, bbox_inches='tight', transparent=True, dpi=300)\n",
    "plt.show()"
   ]
  },
  {
   "cell_type": "code",
   "execution_count": null,
   "metadata": {},
   "outputs": [],
   "source": []
  }
 ],
 "metadata": {
  "kernelspec": {
   "display_name": "Python 3",
   "language": "python",
   "name": "python3"
  },
  "language_info": {
   "codemirror_mode": {
    "name": "ipython",
    "version": 3
   },
   "file_extension": ".py",
   "mimetype": "text/x-python",
   "name": "python",
   "nbconvert_exporter": "python",
   "pygments_lexer": "ipython3",
   "version": "3.7.7"
  }
 },
 "nbformat": 4,
 "nbformat_minor": 4
}
