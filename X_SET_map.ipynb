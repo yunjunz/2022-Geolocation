{
 "cells": [
  {
   "cell_type": "markdown",
   "id": "b07ed25d",
   "metadata": {},
   "source": [
    "## Solid Earth tides - map and variation of acquisition time"
   ]
  },
  {
   "cell_type": "code",
   "execution_count": 1,
   "id": "ac636e55",
   "metadata": {},
   "outputs": [
    {
     "name": "stdout",
     "output_type": "stream",
     "text": [
      "Go to directory /Users/yunjunz/Papers/2021_Geolocation/figs_src\n"
     ]
    }
   ],
   "source": [
    "%matplotlib inline\n",
    "import os\n",
    "import datetime as dt\n",
    "import numpy as np\n",
    "from scipy import signal\n",
    "from matplotlib import pyplot as plt, ticker, dates as mdates\n",
    "import pysolid\n",
    "from mintpy.utils import readfile, utils as ut\n",
    "plt.rcParams.update({'font.size': 12})\n",
    "\n",
    "work_dir = os.path.expanduser('~/Papers/2021_Geolocation/figs_src')\n",
    "os.chdir(work_dir)\n",
    "print('Go to directory', work_dir)"
   ]
  },
  {
   "cell_type": "code",
   "execution_count": 2,
   "id": "b073e8b4",
   "metadata": {},
   "outputs": [
    {
     "name": "stdout",
     "output_type": "stream",
     "text": [
      "up SET difference: 1.5 mm\n"
     ]
    }
   ],
   "source": [
    "tide_vel = 400 / (12.4 * 3600)   # mm/s\n",
    "t_span = 1000e3 / 6e3\n",
    "print('up SET difference: {:.1f} mm'.format(t_span * tide_vel))"
   ]
  },
  {
   "cell_type": "code",
   "execution_count": 6,
   "id": "93f13d01",
   "metadata": {},
   "outputs": [
    {
     "data": {
      "text/plain": [
       "-103.07204886822507"
      ]
     },
     "execution_count": 6,
     "metadata": {},
     "output_type": "execute_result"
    }
   ],
   "source": [
    "az_angle"
   ]
  },
  {
   "cell_type": "code",
   "execution_count": 3,
   "id": "c2333517",
   "metadata": {},
   "outputs": [
    {
     "name": "stdout",
     "output_type": "stream",
     "text": [
      "near   incidence angle : 30.6236 degree\n",
      "center incidence angle : 38.2582 degree\n",
      "far    incidence angle : 45.8929 degree\n"
     ]
    }
   ],
   "source": [
    "fname = '/Users/yunjunz/data/offset4motion/SaltonSeaSenDT173/mintpy_offset_v2/timeseriesRg.h5'\n",
    "meta = readfile.read_attribute(fname)\n",
    "meta['LENGTH'] = int(meta['LENGTH']) * 5\n",
    "inc_angle = ut.incidence_angle(meta)\n",
    "az_angle = ut.heading2azimuth_angle(float(meta['HEADING']))"
   ]
  },
  {
   "cell_type": "code",
   "execution_count": 4,
   "id": "045b5465",
   "metadata": {},
   "outputs": [
    {
     "data": {
      "image/png": "[encoded data removed]",
      "text/plain": [
       "<Figure size 432x288 with 1 Axes>"
      ]
     },
     "metadata": {
      "needs_background": "light"
     },
     "output_type": "display_data"
    }
   ],
   "source": [
    "plt.figure()\n",
    "plt.imshow(inc_angle)\n",
    "plt.show()"
   ]
  },
  {
   "cell_type": "code",
   "execution_count": 12,
   "id": "6d7bb90f",
   "metadata": {},
   "outputs": [
    {
     "name": "stdout",
     "output_type": "stream",
     "text": [
      "PYSOLID: ----------------------------------------\n",
      "PYSOLID: datetime: 2019-05-16T01:57:41\n",
      "PYSOLID: SNWE: (32.501249999999985, 43.50124999999997, -123.50124999999974, -117.5012499999999)\n",
      "SOLID  : calculate solid Earth tides in east/north/up direction\n",
      "SOLID  : shape: (1320, 720), step size: -0.0083 by 0.0083 deg\n",
      "SOLID  : calculating / writing data to txt file: /Users/yunjunz/Papers/2021_Geolocation/figs_src/solid.txt\n",
      "PYSOLID: read data from text file: /Users/yunjunz/Papers/2021_Geolocation/figs_src/solid.txt\n"
     ]
    },
    {
     "name": "stderr",
     "output_type": "stream",
     "text": [
      "/Users/yunjunz/tools/MintPy/mintpy/utils/utils0.py:406: RuntimeWarning: invalid value encountered in cos\n",
      "  + u * np.cos(inc_angle))\n"
     ]
    }
   ],
   "source": [
    "lalos = [\n",
    "    [32.30, -120.53],\n",
    "    [32.70, -117.89],\n",
    "    [52.82, -126.04],\n",
    "    [53.22, -122.34],\n",
    "]\n",
    "\n",
    "#inc_angle = (30.6 + 45.9) / 2\n",
    "inc_angle_file = os.path.join(work_dir, 'SET/incAngle.geo')\n",
    "inc_angle, atr = readfile.read(inc_angle_file)\n",
    "inc_angle[inc_angle == 0] = np.nan\n",
    "inc_angle_mean = np.nanmean(inc_angle)\n",
    "az_angle = 102\n",
    "\n",
    "\n",
    "# inputs\n",
    "dt_obj0 = dt.datetime(2019, 5, 16, 1, 57, 41)\n",
    "dt_obj1 = dt.datetime(2019, 5, 16, 2,  3, 23)\n",
    "#S, N, W, E = 32.0, 53.5, -126.5, -117.5\n",
    "#y_step, x_step = -0.1, 0.1\n",
    "#length = int((S - N) / y_step)\n",
    "#width = int((E - W) / x_step)\n",
    "#atr = {\n",
    "#    'LENGTH'  : length,\n",
    "#    'WIDTH'   : width,\n",
    "#    'X_FIRST' : W,\n",
    "#    'Y_FIRST' : N,\n",
    "#    'X_STEP'  : x_step,\n",
    "#    'Y_STEP'  : y_step,\n",
    "#}\n",
    "\n",
    "(tide_e,\n",
    " tide_n,\n",
    " tide_u) = pysolid.calc_solid_earth_tides_grid(dt_obj0, atr,\n",
    "                                               display=False,\n",
    "                                               verbose=True)\n",
    "tide_los = ut.enu2los(tide_e, tide_n, tide_u, inc_angle=inc_angle, az_angle=az_angle)"
   ]
  },
  {
   "cell_type": "code",
   "execution_count": 13,
   "id": "eb624f18",
   "metadata": {},
   "outputs": [
    {
     "data": {
      "image/png": "[encoded data removed]",
      "text/plain": [
       "<Figure size 432x288 with 2 Axes>"
      ]
     },
     "metadata": {
      "needs_background": "light"
     },
     "output_type": "display_data"
    }
   ],
   "source": [
    "plt.figure()\n",
    "plt.imshow(tide_los*1e3, cmap='jet', interpolation='nearest')\n",
    "plt.colorbar()\n",
    "plt.show()"
   ]
  },
  {
   "cell_type": "code",
   "execution_count": 15,
   "id": "1ba1b7a6",
   "metadata": {},
   "outputs": [
    {
     "data": {
      "image/png": "[encoded data removed]",
      "text/plain": [
       "<Figure size 432x288 with 2 Axes>"
      ]
     },
     "metadata": {
      "needs_background": "light"
     },
     "output_type": "display_data"
    }
   ],
   "source": [
    "tide_los = ut.enu2los(tide_e, tide_n, tide_u, inc_angle=inc_angle, az_angle=np.nanmean(inc_angle))\n",
    "plt.figure()\n",
    "plt.imshow(tide_los*1e3, cmap='jet', interpolation='nearest')\n",
    "plt.colorbar()\n",
    "plt.show()"
   ]
  },
  {
   "cell_type": "code",
   "execution_count": null,
   "id": "8b5cfb4c",
   "metadata": {},
   "outputs": [],
   "source": []
  }
 ],
 "metadata": {
  "kernelspec": {
   "display_name": "Python 3",
   "language": "python",
   "name": "python3"
  },
  "language_info": {
   "codemirror_mode": {
    "name": "ipython",
    "version": 3
   },
   "file_extension": ".py",
   "mimetype": "text/x-python",
   "name": "python",
   "nbconvert_exporter": "python",
   "pygments_lexer": "ipython3",
   "version": "3.7.9"
  }
 },
 "nbformat": 4,
 "nbformat_minor": 5
}
