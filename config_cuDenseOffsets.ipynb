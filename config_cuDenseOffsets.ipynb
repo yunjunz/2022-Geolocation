{
 "cells": [
  {
   "cell_type": "markdown",
   "metadata": {},
   "source": [
    "## Results comparison with different setttings of cuDenseOffsets.py\n",
    "\n",
    "Used pairs: Sentinel-1 ascending track 149 @ Northern Chile, 20171204-20171216\n",
    "\n",
    "### Command line history\n",
    "\n",
    "```bash\n",
    "cuDenseOffsets.py -m ../SLC/20171204/20171204.slc.full -s ../SLC/20171216/20171216.slc.full --masterxml ../../master/IW1.xml --nwac 100 --nwdc 1 --kw 300 --kh 100 --gpuid 1 --output-prefix ./off1 --ww 64  --wh 64  -r --sw 20 --sh 20 --raw-osf 2 --corr-osf 32\n",
    "\n",
    "cuDenseOffsets.py -m ../SLC/20171204/20171204.slc.full -s ../SLC/20171216/20171216.slc.full --masterxml ../../master/IW1.xml --nwac 100 --nwdc 1 --kw 300 --kh 100 --gpuid 2 --output-prefix ./off2 --ww 128 --wh 128 -r --sw 20 --sh 20 --raw-osf 2 --corr-osf 32\n",
    "\n",
    "cuDenseOffsets.py -m ../SLC/20171204/20171204.slc.full -s ../SLC/20171216/20171216.slc.full --masterxml ../../master/IW1.xml --nwac 100 --nwdc 1 --kw 300 --kh 100 --gpuid 3 --output-prefix ./off3 --ww 256 --wh 256 -r --sw 20 --sh 20 --raw-osf 2 --corr-osf 32\n",
    "\n",
    "cuDenseOffsets.py -m ../SLC/20171204/20171204.slc.full -s ../SLC/20171216/20171216.slc.full --masterxml ../../master/IW1.xml --nwac 100 --nwdc 1 --kw 300 --kh 100 --gpuid 4 --output-prefix ./off4 --ww 256 --wh 256 -r --sw 10 --sh 10 --raw-osf 2 --corr-osf 32\n",
    "\n",
    "cuDenseOffsets.py -m ../SLC/20171204/20171204.slc.full -s ../SLC/20171216/20171216.slc.full --masterxml ../../master/IW1.xml --nwac 100 --nwdc 1 --kw 300 --kh 100 --gpuid 5 --output-prefix ./off5 --ww 256 --wh 256 -r --sw 10 --sh 10 --raw-osf 3 --corr-osf 32\n",
    "\n",
    "cuDenseOffsets.py -m ../SLC/20171204/20171204.slc.full -s ../SLC/20171216/20171216.slc.full --masterxml ../../master/IW1.xml --nwac 100 --nwdc 1 --kw 300 --kh 100 --gpuid 6 --output-prefix ./off6 --ww 256 --wh 256 -r --sw 10 --sh 10 --raw-osf 2 --corr-osf 64\n",
    "\n",
    "# plot\n",
    "view.py off1.bip -v -0.05 0.05 --figsize 15 5 -o off1.png --nodisplay\n",
    "view.py off1_snr.bip -v 0 200 --figsize 9 5 -c RdBu_truncate --cm-vlist 0 0.1 1.0 --cbar-nbins 11 -o snr1.png --nodisplay\n",
    "\n",
    "view.py off2.bip -v -0.05 0.05 --figsize 15 5 -o off2.png --nodisplay\n",
    "view.py off2_snr.bip -v 0 200 --figsize 9 5 -c RdBu_truncate --cm-vlist 0 0.1 1.0 --cbar-nbins 11 -o snr2.png --nodisplay\n",
    "\n",
    "view.py off3.bip -v -0.05 0.05 --figsize 15 5 -o off3.png --nodisplay\n",
    "view.py off3_snr.bip -v 0 200 --figsize 9 5 -c RdBu_truncate --cm-vlist 0 0.1 1.0 --cbar-nbins 11 -o snr3.png --nodisplay\n",
    "\n",
    "view.py off4.bip -v -0.05 0.05 --figsize 15 5 -o off4.png --nodisplay\n",
    "view.py off4_snr.bip -v 0 200 --figsize 9 5 -c RdBu_truncate --cm-vlist 0 0.1 1.0 --cbar-nbins 11 -o snr4.png --nodisplay\n",
    "\n",
    "view.py off5.bip -v -0.05 0.05 --figsize 15 5 -o off5.png --nodisplay\n",
    "view.py off5_snr.bip -v 0 200 --figsize 9 5 -c RdBu_truncate --cm-vlist 0 0.1 1.0 --cbar-nbins 11 -o snr5.png --nodisplay\n",
    "\n",
    "view.py off6.bip -v -0.05 0.05 --figsize 15 5 -o off6.png --nodisplay\n",
    "view.py off6_snr.bip -v 0 200 --figsize 9 5 -c RdBu_truncate --cm-vlist 0 0.1 1.0 --cbar-nbins 11 -o snr6.png --nodisplay\n",
    "```"
   ]
  },
  {
   "cell_type": "code",
   "execution_count": null,
   "metadata": {},
   "outputs": [],
   "source": []
  }
 ],
 "metadata": {
  "kernelspec": {
   "display_name": "Python 3",
   "language": "python",
   "name": "python3"
  },
  "language_info": {
   "codemirror_mode": {
    "name": "ipython",
    "version": 3
   },
   "file_extension": ".py",
   "mimetype": "text/x-python",
   "name": "python",
   "nbconvert_exporter": "python",
   "pygments_lexer": "ipython3",
   "version": "3.6.7"
  }
 },
 "nbformat": 4,
 "nbformat_minor": 2
}
