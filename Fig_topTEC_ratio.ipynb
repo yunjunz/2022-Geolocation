{
 "cells": [
  {
   "cell_type": "markdown",
   "metadata": {},
   "source": [
    "## Scaling total TEC to sub-orbital TEC"
   ]
  },
  {
   "cell_type": "code",
   "execution_count": 58,
   "metadata": {},
   "outputs": [
    {
     "name": "stdout",
     "output_type": "stream",
     "text": [
      "Go to directory: /Users/yunjunz/Papers/2021_Geolocation/figs_src/topTEC\n"
     ]
    }
   ],
   "source": [
    "%matplotlib inline\n",
    "import os\n",
    "import string\n",
    "import numpy as np\n",
    "import seaborn as sns\n",
    "import pandas as pd\n",
    "from matplotlib import pyplot as plt, ticker, patches\n",
    "from mintpy.objects import timeseries, sensor\n",
    "from mintpy.utils import readfile, utils as ut\n",
    "from mintpy import add\n",
    "from ipynb.fs.full import utils\n",
    "plt.rcParams.update({'font.size': 12})\n",
    "\n",
    "work_dir = os.path.expanduser('~/Papers/2021_Geolocation/figs_src/topTEC')\n",
    "os.chdir(work_dir)\n",
    "print('Go to directory:', work_dir)\n",
    "\n",
    "proj_dirs = [os.path.expanduser('~/data/geolocation/ChileSenAT149/mintpy_offset'),\n",
    "             os.path.expanduser('~/data/geolocation/ChileSenDT156/mintpy_offset'),\n",
    "             os.path.expanduser('~/data/geolocation/KyushuAlos2DT23/mintpy_offset')]"
   ]
  },
  {
   "cell_type": "markdown",
   "metadata": {},
   "source": [
    "### Calculate"
   ]
  },
  {
   "cell_type": "code",
   "execution_count": 3,
   "metadata": {},
   "outputs": [],
   "source": [
    "for proj_dir in proj_dirs:\n",
    "    suffix = '' if 'Alos2' in proj_dir else '_S1Bias'\n",
    "    infile = os.path.join(proj_dir, f'timeseriesRg{suffix}_SET_ERA5.h5')\n",
    "    fbase = os.path.splitext(infile)[0]\n",
    "\n",
    "    tbases = [\n",
    "        'TECclr', 'TECclrR69', 'TECclrRA',\n",
    "        'TECjlr', 'TECjlrR69', 'TECjlrRA',\n",
    "        'TECjhr', 'TECjhrR69', 'TECjhrRA',\n",
    "    ]\n",
    "\n",
    "    for tbase in tbases:\n",
    "        tec_file = os.path.join(proj_dir, 'inputs', f'{tbase}.h5')\n",
    "        outfile = f'{fbase}_{tbase}.h5'\n",
    "        if not os.path.isfile(outfile):\n",
    "            cmd = f'{infile} {tec_file} -o {outfile}'\n",
    "            print(f'add.py {cmd}')\n",
    "            add.main(cmd.split())"
   ]
  },
  {
   "cell_type": "code",
   "execution_count": 4,
   "metadata": {},
   "outputs": [
    {
     "name": "stdout",
     "output_type": "stream",
     "text": [
      "ChileSenAT149: RMSE\n",
      "    SAR - S1Bias - SET - ERA5               :   18.1 cm\n",
      "    SAR - S1Bias - SET - ERA5 - TECclr      :   22.3 cm\n",
      "    SAR - S1Bias - SET - ERA5 - TECclrR69   :   20.3 cm\n",
      "    SAR - S1Bias - SET - ERA5 - TECclrRA    :   18.8 cm\n",
      "    SAR - S1Bias - SET - ERA5 - TECjlr      :   20.0 cm\n",
      "    SAR - S1Bias - SET - ERA5 - TECjlrR69   :   18.7 cm\n",
      "    SAR - S1Bias - SET - ERA5 - TECjlrRA    :   16.8 cm\n",
      "    SAR - S1Bias - SET - ERA5 - TECjhr      :    6.7 cm\n",
      "    SAR - S1Bias - SET - ERA5 - TECjhrR69   :    7.2 cm\n",
      "    SAR - S1Bias - SET - ERA5 - TECjhrRA    :    6.4 cm\n",
      "    SAR - S1Bias - SET - ERA5 - TECsub      :    5.3 cm\n"
     ]
    },
    {
     "name": "stderr",
     "output_type": "stream",
     "text": [
      "/Users/yunjunz/tools/miniconda3/envs/insar/lib/python3.7/site-packages/numpy/lib/nanfunctions.py:1114: RuntimeWarning: All-NaN slice encountered\n",
      "  overwrite_input=overwrite_input)\n"
     ]
    },
    {
     "name": "stdout",
     "output_type": "stream",
     "text": [
      "ChileSenDT156: RMSE\n",
      "    SAR - S1Bias - SET - ERA5               :    5.7 cm\n",
      "    SAR - S1Bias - SET - ERA5 - TECclr      :    5.2 cm\n",
      "    SAR - S1Bias - SET - ERA5 - TECclrR69   :    5.1 cm\n",
      "    SAR - S1Bias - SET - ERA5 - TECclrRA    :    5.1 cm\n",
      "    SAR - S1Bias - SET - ERA5 - TECjlr      :    5.2 cm\n",
      "    SAR - S1Bias - SET - ERA5 - TECjlrR69   :    5.0 cm\n",
      "    SAR - S1Bias - SET - ERA5 - TECjlrRA    :    5.0 cm\n",
      "    SAR - S1Bias - SET - ERA5 - TECjhr      :    5.8 cm\n",
      "    SAR - S1Bias - SET - ERA5 - TECjhrR69   :    5.5 cm\n",
      "    SAR - S1Bias - SET - ERA5 - TECjhrRA    :    5.4 cm\n",
      "KyushuAlos2DT23: RMSE\n",
      "    SAR - SET - ERA5                        :    271 cm\n",
      "    SAR - SET - ERA5 - TECclr               :    127 cm\n",
      "    SAR - SET - ERA5 - TECclrR69            :    154 cm\n",
      "    SAR - SET - ERA5 - TECclrRA             :    153 cm\n",
      "    SAR - SET - ERA5 - TECjlr               :    115 cm\n",
      "    SAR - SET - ERA5 - TECjlrR69            :    149 cm\n",
      "    SAR - SET - ERA5 - TECjlrRA             :    148 cm\n",
      "    SAR - SET - ERA5 - TECjhr               :     87 cm\n",
      "    SAR - SET - ERA5 - TECjhrR69            :     62 cm\n",
      "    SAR - SET - ERA5 - TECjhrRA             :     83 cm\n"
     ]
    }
   ],
   "source": [
    "proj_names = []\n",
    "rDicts = []\n",
    "for proj_dir in proj_dirs:\n",
    "    suffix = '' if 'Alos2' in proj_dir else '_S1Bias'\n",
    "    infile = os.path.join(proj_dir, f'timeseriesRg{suffix}_SET_ERA5.h5')\n",
    "    fbase = os.path.splitext(infile)[0]\n",
    "    fnames = [infile] + [f'{fbase}_{x}.h5' for x in tbases + ['TECsub']]\n",
    "    proj_name, tsDict, rDict = utils.read_ts_files(fnames, print_msg=True, print_max=False)\n",
    "    proj_names.append(proj_name)\n",
    "    rDicts.append(rDict)"
   ]
  },
  {
   "cell_type": "markdown",
   "metadata": {},
   "source": [
    "### Plot"
   ]
  },
  {
   "cell_type": "code",
   "execution_count": 158,
   "metadata": {},
   "outputs": [
    {
     "name": "stdout",
     "output_type": "stream",
     "text": [
      "save figure to file /Users/yunjunz/Papers/2021_Geolocation/figs_src/topTEC/topTEC_scale_rmse_base.pdf\n"
     ]
    },
    {
     "data": {
      "image/png": "[encoded data removed]",
      "text/plain": [
       "<Figure size 432x396 with 9 Axes>"
      ]
     },
     "metadata": {
      "needs_background": "light"
     },
     "output_type": "display_data"
    }
   ],
   "source": [
    "x = [0,1,2]\n",
    "fig, axs = plt.subplots(nrows=3, ncols=3, figsize=[6, 5.5], sharex=True)\n",
    "for i in range(3):\n",
    "    tecs = list(rDicts[i].values())\n",
    "    clr, jlr, jhr = tecs[1:4], tecs[4:7], tecs[7:10]\n",
    "    for j, tec in enumerate([tecs[1:4], tecs[4:7], tecs[7:10]]):\n",
    "        axs[i, j].plot(x, tec, 'o-', color='k')\n",
    "# axis format\n",
    "nums = ['(a)', '(b)', '(c)',\n",
    "        '(d)', '(e)', '(f)',\n",
    "        '(g)', '(h)', '(i)']\n",
    "gnames = ['CLR GIM', 'JLR GIM', 'JHR GIM']\n",
    "for i, ax in enumerate(axs.flatten()):\n",
    "    ax.tick_params(which='both', direction='in', top=True, bottom=True, left=True, right=True)\n",
    "    ax.annotate(f'{nums[i]}', xy=(0.92, 0.8), xycoords='axes fraction', ha='right')\n",
    "    #ax.annotate(f'{nums[i]}', xy=(0.07, 0.1), xycoords='axes fraction')\n",
    "    #ax.yaxis.set_minor_locator(ticker.AutoMinorLocator())\n",
    "    ax.set_xlim(-0.4, 2.4)\n",
    "for ax in axs[0,:2]:  ax.set_ylim(15.5, 24);   ax.yaxis.set_major_locator(ticker.MultipleLocator(3));   ax.yaxis.set_minor_locator(ticker.MultipleLocator(1))\n",
    "for ax in axs[0,2:]:  ax.set_ylim(6.1, 7.4);   ax.yaxis.set_major_locator(ticker.MultipleLocator(0.5)); ax.yaxis.set_minor_locator(ticker.MultipleLocator(0.25))\n",
    "for ax in axs[1,:3]:  ax.set_ylim(4.75, 6.05); ax.yaxis.set_major_locator(ticker.MultipleLocator(0.5)); ax.yaxis.set_minor_locator(ticker.MultipleLocator(0.25))\n",
    "for ax in axs[2,:2]:  ax.set_ylim(105, 175);   ax.yaxis.set_major_locator(ticker.MultipleLocator(30));  ax.yaxis.set_minor_locator(ticker.MultipleLocator(10))\n",
    "for ax in axs[2,2:]:  ax.set_ylim(55, 95);     ax.yaxis.set_major_locator(ticker.MultipleLocator(20));  ax.yaxis.set_minor_locator(ticker.MultipleLocator(5))\n",
    "for i in range(3):    axs[0,i].set_title(gnames[i])\n",
    "axs[1,0].set_ylabel('RMSE [cm]')\n",
    "axs[2,1].set_xlabel('Scaling method')\n",
    "plt.xticks(x, ['No', 'Fix', 'Adap'])\n",
    "fig.tight_layout()\n",
    "fig.subplots_adjust(wspace=0.35)\n",
    "\n",
    "# outputs\n",
    "out_fig = os.path.join(work_dir, 'topTEC_scale_rmse_base.pdf')\n",
    "print('save figure to file', out_fig)\n",
    "plt.savefig(out_fig, bbox_inches='tight', transparent=True, dpi=300)\n",
    "plt.show()"
   ]
  },
  {
   "cell_type": "markdown",
   "metadata": {},
   "source": [
    "Take home message:\n",
    "1. For Sentinel-1 ascending, adaptive ratio is the best, not surprising since the model is calculated from the same dataset\n",
    "2. For Sentinel-1 descending, same altitude, different local time, applying ratio helps, but not obvious whether fixed or adaptive\n",
    "3. For ALOS-2, different altitude, different local time, applying ratio get worse"
   ]
  }
 ],
 "metadata": {
  "kernelspec": {
   "display_name": "Python 3",
   "language": "python",
   "name": "python3"
  },
  "language_info": {
   "codemirror_mode": {
    "name": "ipython",
    "version": 3
   },
   "file_extension": ".py",
   "mimetype": "text/x-python",
   "name": "python",
   "nbconvert_exporter": "python",
   "pygments_lexer": "ipython3",
   "version": "3.7.9"
  }
 },
 "nbformat": 4,
 "nbformat_minor": 4
}
