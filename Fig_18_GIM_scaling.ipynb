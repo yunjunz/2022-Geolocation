{
 "cells": [
  {
   "cell_type": "markdown",
   "metadata": {},
   "source": [
    "## Adaptive scaling of total TEC for sub-orbital TEC"
   ]
  },
  {
   "cell_type": "code",
   "execution_count": 1,
   "metadata": {},
   "outputs": [
    {
     "name": "stdout",
     "output_type": "stream",
     "text": [
      "Go to directory: /Users/yunjunz/Papers/2021_Geolocation/figs_src/topTEC\n"
     ]
    }
   ],
   "source": [
    "%matplotlib inline\n",
    "import os\n",
    "import string\n",
    "import numpy as np\n",
    "import seaborn as sns\n",
    "import pandas as pd\n",
    "from matplotlib import pyplot as plt, ticker, patches\n",
    "from mintpy.objects import timeseries, sensor\n",
    "from mintpy.utils import readfile, utils as ut\n",
    "from mintpy import add\n",
    "from ipynb.fs.full import utils\n",
    "plt.rcParams.update({'font.size': 12})\n",
    "\n",
    "work_dir = os.path.expanduser('~/Papers/2021_Geolocation/figs_src/topTEC')\n",
    "os.chdir(work_dir)\n",
    "print('Go to directory:', work_dir)\n",
    "\n",
    "proj_dirs = [os.path.expanduser('~/data/geolocation/ChileSenAT149/mintpy_offset'),\n",
    "             os.path.expanduser('~/data/geolocation/ChileSenDT156/mintpy_offset'),\n",
    "             os.path.expanduser('~/data/geolocation/KyushuAlos2DT23/mintpy_offset')]"
   ]
  },
  {
   "cell_type": "markdown",
   "metadata": {},
   "source": [
    "### Calculate"
   ]
  },
  {
   "cell_type": "code",
   "execution_count": 2,
   "metadata": {
    "scrolled": true
   },
   "outputs": [],
   "source": [
    "for proj_dir in proj_dirs:\n",
    "    os.chdir(proj_dir)\n",
    "    #!iono_tec.py timeseriesRg.h5 -g inputs/geometryRadar.h5 -s jpl\n",
    "    #!iono_tec.py timeseriesRg.h5 -g inputs/geometryRadar.h5 -s jpl --ratio 0.69\n",
    "    #!iono_tec.py timeseriesRg.h5 -g inputs/geometryRadar.h5 -s jpl --ratio adaptive\n",
    "    #!iono_tec.py timeseriesRg.h5 -g inputs/geometryRadar.h5 -s cod\n",
    "    #!iono_tec.py timeseriesRg.h5 -g inputs/geometryRadar.h5 -s cod --ratio 0.69\n",
    "    #!iono_tec.py timeseriesRg.h5 -g inputs/geometryRadar.h5 -s cod --ratio adaptive\n",
    "os.chdir(work_dir)"
   ]
  },
  {
   "cell_type": "code",
   "execution_count": 5,
   "metadata": {},
   "outputs": [],
   "source": [
    "for proj_dir in proj_dirs:\n",
    "    suffix = '' if 'Alos2' in proj_dir else '_S1Bias'\n",
    "    infile = os.path.join(proj_dir, f'timeseriesRg{suffix}_SET_ERA5.h5')\n",
    "    fbase = os.path.splitext(infile)[0]\n",
    "\n",
    "    tbases = [\n",
    "        'TECclr', 'TECclrR69', 'TECclrRA',\n",
    "        'TECjlr', 'TECjlrR69', 'TECjlrRA',\n",
    "        'TECjhr', 'TECjhrR69', 'TECjhrRA',\n",
    "    ]\n",
    "\n",
    "    for tbase in tbases:\n",
    "        tec_file = os.path.join(proj_dir, 'inputs', f'{tbase}.h5')\n",
    "        outfile = f'{fbase}_{tbase}.h5'\n",
    "        if not os.path.isfile(outfile):\n",
    "            cmd = f'{infile} {tec_file} -o {outfile}'\n",
    "            print(f'add.py {cmd}')\n",
    "            add.main(cmd.split())"
   ]
  },
  {
   "cell_type": "code",
   "execution_count": 7,
   "metadata": {},
   "outputs": [
    {
     "name": "stdout",
     "output_type": "stream",
     "text": [
      "ChileSenAT149: RMSE\n",
      "    SAR - S1Bias - SET - ERA5               :   18.1 cm\n",
      "    SAR - S1Bias - SET - ERA5 - TECclr      :   21.2 cm\n",
      "    SAR - S1Bias - SET - ERA5 - TECclrR69   :   19.9 cm\n",
      "    SAR - S1Bias - SET - ERA5 - TECclrRA    :   18.5 cm\n",
      "    SAR - S1Bias - SET - ERA5 - TECjlr      :   19.2 cm\n",
      "    SAR - S1Bias - SET - ERA5 - TECjlrR69   :   18.4 cm\n",
      "    SAR - S1Bias - SET - ERA5 - TECjlrRA    :   16.8 cm\n",
      "    SAR - S1Bias - SET - ERA5 - TECjhr      :    6.4 cm\n",
      "    SAR - S1Bias - SET - ERA5 - TECjhrR69   :    8.7 cm\n",
      "    SAR - S1Bias - SET - ERA5 - TECjhrRA    :    7.5 cm\n",
      "    SAR - S1Bias - SET - ERA5 - TECsub      :    4.9 cm\n",
      "ChileSenDT156: RMSE\n",
      "    SAR - S1Bias - SET - ERA5               :    5.7 cm\n",
      "    SAR - S1Bias - SET - ERA5 - TECclr      :    5.1 cm\n",
      "    SAR - S1Bias - SET - ERA5 - TECclrR69   :    5.1 cm\n",
      "    SAR - S1Bias - SET - ERA5 - TECclrRA    :    5.1 cm\n",
      "    SAR - S1Bias - SET - ERA5 - TECjlr      :    5.1 cm\n",
      "    SAR - S1Bias - SET - ERA5 - TECjlrR69   :    4.9 cm\n",
      "    SAR - S1Bias - SET - ERA5 - TECjlrRA    :    5.0 cm\n",
      "    SAR - S1Bias - SET - ERA5 - TECjhr      :    5.6 cm\n",
      "    SAR - S1Bias - SET - ERA5 - TECjhrR69   :    5.4 cm\n",
      "    SAR - S1Bias - SET - ERA5 - TECjhrRA    :    5.4 cm\n",
      "KyushuAlos2DT23: RMSE\n",
      "    SAR - SET - ERA5                        :  271.2 cm\n",
      "    SAR - SET - ERA5 - TECclr               :  138.1 cm\n",
      "    SAR - SET - ERA5 - TECclrR69            :  166.6 cm\n",
      "    SAR - SET - ERA5 - TECclrRA             :  168.1 cm\n",
      "    SAR - SET - ERA5 - TECjlr               :  131.3 cm\n",
      "    SAR - SET - ERA5 - TECjlrR69            :  164.8 cm\n",
      "    SAR - SET - ERA5 - TECjlrRA             :  162.6 cm\n",
      "    SAR - SET - ERA5 - TECjhr               :   55.7 cm\n",
      "    SAR - SET - ERA5 - TECjhrR69            :   88.8 cm\n",
      "    SAR - SET - ERA5 - TECjhrRA             :   92.7 cm\n"
     ]
    }
   ],
   "source": [
    "proj_names = []\n",
    "rDicts = []\n",
    "for proj_dir in proj_dirs:\n",
    "    suffix = '' if 'Alos2' in proj_dir else '_S1Bias'\n",
    "    infile = os.path.join(proj_dir, f'timeseriesRg{suffix}_SET_ERA5.h5')\n",
    "    fbase = os.path.splitext(infile)[0]\n",
    "    fnames = [infile] + [f'{fbase}_{x}.h5' for x in tbases + ['TECsub']]\n",
    "    proj_name, tsDict, rDict = utils.read_ts_files(fnames, print_msg=True, print_max=False)\n",
    "    proj_names.append(proj_name)\n",
    "    rDicts.append(rDict)"
   ]
  },
  {
   "cell_type": "markdown",
   "metadata": {},
   "source": [
    "### Plot"
   ]
  },
  {
   "cell_type": "code",
   "execution_count": 10,
   "metadata": {},
   "outputs": [
    {
     "name": "stdout",
     "output_type": "stream",
     "text": [
      "save figure to file /Users/yunjunz/Papers/2021_Geolocation/figs_src/topTEC/topTEC_scale_rmse.pdf\n"
     ]
    },
    {
     "data": {
      "image/png": "[encoded data removed]",
      "text/plain": [
       "<Figure size 432x396 with 9 Axes>"
      ]
     },
     "metadata": {
      "needs_background": "light"
     },
     "output_type": "display_data"
    }
   ],
   "source": [
    "x = [0,1,2]\n",
    "fig, axs = plt.subplots(nrows=3, ncols=3, figsize=[6, 5.5], sharex=True)\n",
    "for i in range(3):\n",
    "    tecs = list(rDicts[i].values())\n",
    "    clr, jlr, jhr = tecs[1:4], tecs[4:7], tecs[7:10]\n",
    "    for j, tec in enumerate([tecs[1:4], tecs[4:7], tecs[7:10]]):\n",
    "        axs[i, j].plot(x, tec, 'o-', color='k')\n",
    "# axis format\n",
    "nums = ['(a)', '(b)', '(c)',\n",
    "        '(d)', '(e)', '(f)',\n",
    "        '(g)', '(h)', '(i)']\n",
    "gnames = ['CLR GIM', 'JLR GIM', 'JHR GIM']\n",
    "for i, ax in enumerate(axs.flatten()):\n",
    "    ax.tick_params(which='both', direction='in', top=True, bottom=True, left=True, right=True)\n",
    "    ax.set_xlim(-0.4, 2.4)\n",
    "    ax.annotate(f'{nums[i]}', xy=(0.08, 0.8), xycoords='axes fraction', ha='left')\n",
    "for ax in axs[0,:2]:  ax.set_ylim(15.5, 23.5); ax.yaxis.set_major_locator(ticker.MultipleLocator(4));  ax.yaxis.set_minor_locator(ticker.MultipleLocator(1))\n",
    "for ax in axs[0,2:]:  ax.set_ylim(5.5 , 9.5 ); ax.yaxis.set_major_locator(ticker.MultipleLocator(2));  ax.yaxis.set_minor_locator(ticker.MultipleLocator(0.5))\n",
    "for ax in axs[1,: ]:  ax.set_ylim(4.5,  6.5 ); ax.yaxis.set_major_locator(ticker.MultipleLocator(1));  ax.yaxis.set_minor_locator(ticker.MultipleLocator(0.25))\n",
    "for ax in axs[2,:2]:  ax.set_ylim(120 , 175 ); ax.yaxis.set_major_locator(ticker.MultipleLocator(20)); ax.yaxis.set_minor_locator(ticker.MultipleLocator(10))\n",
    "for ax in axs[2,2:]:  ax.set_ylim(47  , 102 ); ax.yaxis.set_major_locator(ticker.MultipleLocator(20)); ax.yaxis.set_minor_locator(ticker.MultipleLocator(10))\n",
    "for i in range(3):    axs[0,i].set_title(gnames[i])\n",
    "axs[1,0].set_ylabel('RMSE [cm]')\n",
    "#plt.xticks(x, ['no\\nscale', 'scale\\nw/\\nfixed\\nratio', 'scale\\nw/\\nadap.\\nratio'])\n",
    "plt.xticks(x, ['No', 'Fix', 'Adap.'])\n",
    "axs[2,1].set_xlabel('Scaling method')\n",
    "fig.tight_layout()\n",
    "fig.subplots_adjust(wspace=0.3)\n",
    "axs[0,0].annotate('Sentinel-1 asc.',  fontsize=11, xy=(0.52, 0.15), xycoords='axes fraction', ha='center')\n",
    "axs[1,0].annotate('Sentinel-1 desc.', fontsize=11, xy=(0.52, 0.55), xycoords='axes fraction', ha='center')\n",
    "axs[2,0].annotate('ALOS-2 desc.',     fontsize=11, xy=(0.52, 0.13), xycoords='axes fraction', ha='center')\n",
    "\n",
    "# outputs\n",
    "out_fig = os.path.join(work_dir, 'topTEC_scale_rmse.pdf')\n",
    "print('save figure to file', out_fig)\n",
    "plt.savefig(out_fig, bbox_inches='tight', transparent=True, dpi=300)\n",
    "plt.show()"
   ]
  },
  {
   "cell_type": "markdown",
   "metadata": {},
   "source": [
    "Take home message:\n",
    "\n",
    "1. For Sentinel-1, scaling is better than no scaling, except for JHR GIM at Sentinel-1 ascending orbit.\n",
    "2. For Sentinel-1, adaptive scaling is better than fixed scaling\n",
    "3. For ALOS-2, different altitude, different local time, applying ratio get worse"
   ]
  },
  {
   "cell_type": "code",
   "execution_count": null,
   "metadata": {},
   "outputs": [],
   "source": []
  }
 ],
 "metadata": {
  "kernelspec": {
   "display_name": "Python 3",
   "language": "python",
   "name": "python3"
  },
  "language_info": {
   "codemirror_mode": {
    "name": "ipython",
    "version": 3
   },
   "file_extension": ".py",
   "mimetype": "text/x-python",
   "name": "python",
   "nbconvert_exporter": "python",
   "pygments_lexer": "ipython3",
   "version": "3.7.9"
  }
 },
 "nbformat": 4,
 "nbformat_minor": 4
}
