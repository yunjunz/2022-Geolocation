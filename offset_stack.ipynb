{
 "cells": [
  {
   "cell_type": "markdown",
   "metadata": {},
   "source": [
    "## Generate run_files for the stack of offsets\n",
    "\n",
    "### 1. SLC Stack: generate a stack of coregistered SLC using ISCE/topStack SLC workflow\n",
    "\n",
    "```bash\n",
    "stackSentinel.py -s ./SLC/ -d ./DEM/demLat_N34_N38_Lon_W124_W118.dem.wgs84 -b '35.4 36.5 -121.1 -120' -a /home/zyunjun/bak/aux/aux_cal/ -o /home/zyunjun/bak/aux/aux_poeorb/ -n '1 2' -z 1 -r 1 -C geometry -W slc -useGPU\n",
    "```"
   ]
  },
  {
   "cell_type": "code",
   "execution_count": 2,
   "metadata": {},
   "outputs": [
    {
     "name": "stdout",
     "output_type": "stream",
     "text": [
      "Go to directory /Users/yunjunz/data/SanAndreas/SenDT42F472\n"
     ]
    }
   ],
   "source": [
    "%matplotlib inline\n",
    "import os\n",
    "import glob\n",
    "import numpy as np\n",
    "from mintpy.utils import network as pnet\n",
    "\n",
    "work_dir = '/Users/yunjunz/data/SanAndreas/SenDT42F472'\n",
    "os.chdir(work_dir)\n",
    "print('Go to directory', work_dir)\n",
    "\n",
    "proj_dir = '/home/zyunjun/nobak/SenDT42F472'\n",
    "\n",
    "def get_dense_offset_cmd(proj_dir, date12, gpu_id=None):\n",
    "    date1, date2 = date12.split('_')\n",
    "    m_slc = os.path.join(proj_dir, 'merged/SLC/{d}/{d}.slc.full'.format(d=date1))\n",
    "    s_slc = os.path.join(proj_dir, 'merged/SLC/{d}/{d}.slc.full'.format(d=date2))\n",
    "    x_file = os.path.join(proj_dir, 'master/IW1.xml')\n",
    "    prefix = os.path.join(proj_dir, 'merged/offsets/{d}/offset'.format(d=date12))\n",
    "\n",
    "    cmd = 'cuDenseOffsets.py -m {m} -s {s} --masterxml {x} --outprefix {p} '.format(\n",
    "        m=m_slc,\n",
    "        s=s_slc,\n",
    "        x=x_file,\n",
    "        p=prefix)\n",
    "    cmd += ' --ww 256 --wh 256 --oo 32 --kw 300 --kh 100 --nwac 100 --nwdc 1 --sw 8 --sh 8 '\n",
    "\n",
    "    if gpu_id is not None:\n",
    "        cmd += ' --gpuid {} '.format(gpu_id)\n",
    "\n",
    "    return cmd"
   ]
  },
  {
   "cell_type": "markdown",
   "metadata": {},
   "source": [
    "### 2. offset stack: generate a stack of azimuth/range offset using cuDenseOffsets.py\n",
    "\n",
    "#### 2.1 Generate `date12.list`"
   ]
  },
  {
   "cell_type": "code",
   "execution_count": 3,
   "metadata": {},
   "outputs": [
    {
     "name": "stdout",
     "output_type": "stream",
     "text": [
      "number of jobs: 273\n",
      "number of jobs per GPU: 46\n"
     ]
    }
   ],
   "source": [
    "### get date12.list\n",
    "num_conn = 3\n",
    "date_list_file = os.path.join(work_dir, 'date.list')\n",
    "date_list = np.loadtxt(date_list_file, dtype=bytes).astype(str).tolist()\n",
    "date12_list = pnet.select_pairs_sequential(date_list, num_connection=num_conn, date12_format='YYYYMMDD_YYYYMMDD')\n",
    "\n",
    "## job info\n",
    "num_pair = len(date12_list)\n",
    "print('number of jobs: {}'.format(num_pair))\n",
    "\n",
    "gpu_ids = [str(i) for i in [2,3,4,5,6,7]]\n",
    "num_gpu = len(gpu_ids)\n",
    "num_job_per_gpu = np.ceil(num_pair / num_gpu).astype(int)\n",
    "print('number of jobs per GPU: {}'.format(num_job_per_gpu))"
   ]
  },
  {
   "cell_type": "markdown",
   "metadata": {},
   "source": [
    "#### 2.2 Generate run_offset_gpu_*.sh\n",
    "\n",
    "Then copy the run_files to kamb and run each of them in different screen."
   ]
  },
  {
   "cell_type": "code",
   "execution_count": 6,
   "metadata": {
    "scrolled": true
   },
   "outputs": [
    {
     "name": "stdout",
     "output_type": "stream",
     "text": [
      "open file: /Users/yunjunz/data/SanAndreas/SenDT42F472/run_files/run_offset_gpu_2.sh with w mode\n",
      "open file: /Users/yunjunz/data/SanAndreas/SenDT42F472/run_files/run_offset_gpu_3.sh with w mode\n",
      "open file: /Users/yunjunz/data/SanAndreas/SenDT42F472/run_files/run_offset_gpu_4.sh with w mode\n",
      "open file: /Users/yunjunz/data/SanAndreas/SenDT42F472/run_files/run_offset_gpu_5.sh with w mode\n",
      "open file: /Users/yunjunz/data/SanAndreas/SenDT42F472/run_files/run_offset_gpu_6.sh with w mode\n",
      "open file: /Users/yunjunz/data/SanAndreas/SenDT42F472/run_files/run_offset_gpu_7.sh with w mode\n",
      "close file: /Users/yunjunz/data/SanAndreas/SenDT42F472/run_files/run_offset_gpu_2.sh\n",
      "close file: /Users/yunjunz/data/SanAndreas/SenDT42F472/run_files/run_offset_gpu_3.sh\n",
      "close file: /Users/yunjunz/data/SanAndreas/SenDT42F472/run_files/run_offset_gpu_4.sh\n",
      "close file: /Users/yunjunz/data/SanAndreas/SenDT42F472/run_files/run_offset_gpu_5.sh\n",
      "close file: /Users/yunjunz/data/SanAndreas/SenDT42F472/run_files/run_offset_gpu_6.sh\n",
      "close file: /Users/yunjunz/data/SanAndreas/SenDT42F472/run_files/run_offset_gpu_7.sh\n"
     ]
    }
   ],
   "source": [
    "run_files = [os.path.join(work_dir, 'run_files/run_offset_gpu_{}.sh'.format(i)) for i in gpu_ids]\n",
    "log_files = [os.path.join(proj_dir, 'run_files/run_offset_gpu_{}.log'.format(i)) for i in gpu_ids]\n",
    "\n",
    "fs = []\n",
    "for i in range(num_gpu):\n",
    "    f = open(run_files[i], 'w')\n",
    "    print('open file: {} with w mode'.format(run_files[i]))\n",
    "    \n",
    "    cmd = 'touch {}'.format(log_files[i])\n",
    "    f.write(cmd+'\\n')\n",
    "    #print(cmd)\n",
    "    \n",
    "    fs.append(f)\n",
    "\n",
    "for i in range(num_pair):\n",
    "    gpu_ind = int(i / num_job_per_gpu)\n",
    "    log_file = log_files[gpu_ind]\n",
    "    \n",
    "    cmd = get_dense_offset_cmd(proj_dir, date12_list[i], gpu_id=gpu_ids[gpu_ind])\n",
    "    cmd += ' | tee -a {}'.format(log_file)\n",
    "\n",
    "    f = fs[gpu_ind]\n",
    "    f.write(cmd+'\\n')\n",
    "    #print(cmd)\n",
    "\n",
    "for i in range(num_gpu):\n",
    "    fs[i].close()\n",
    "    print('close file:', run_files[i])\n",
    "    \n",
    "    cmd = 'chmod +x {}'.format(run_files[i])\n",
    "    #print(cmd)\n",
    "    #os.system(cmd)"
   ]
  },
  {
   "cell_type": "markdown",
   "metadata": {},
   "source": [
    "### 2.3 Mask and filter the offset field"
   ]
  },
  {
   "cell_type": "code",
   "execution_count": null,
   "metadata": {},
   "outputs": [],
   "source": [
    "off_dir = '/home/zyunjun/nobak/SenDT42F472/merged/offsets'     # kamb\n",
    "off_dir = '/Users/yunjunz/data/SanAndreas/SenDT42F472/merged/offsets' # laptop\n",
    "\n",
    "off_files = glob.glob(os.path.join(off_dir,'*/offset.bip'))\n",
    "print('number of offset files: {}'.format(len(off_files)))\n",
    "\n",
    "for off_file in off_files:\n",
    "    off_dir = os.path.dirname(off_file)\n",
    "    print('*'*10)\n",
    "    print(off_dir)\n",
    "\n",
    "    snr_file = os.path.splitext(off_file)[0] + '_snr.bip'\n",
    "    cmd = 'MaskAndFilter.py -d {d} -s {s} -t 5 -o {o} '.format(d=off_file, s=snr_file, o=off_dir)\n",
    "    print(cmd)\n",
    "    #os.system(cmd)\n",
    "print('Done.')"
   ]
  },
  {
   "cell_type": "markdown",
   "metadata": {},
   "source": [
    "### 3.  prepare `geometry` files for offset stack on kamb\n",
    "\n",
    "```cfg\n",
    "match_len, match_wid = 256, 256\n",
    "search_len, search_wid = 8, 8\n",
    "margin = 50\n",
    "step_len, step_wid = 100, 300\n",
    "```\n",
    "\n",
    "This leads to `$MINTPY_HOME/mintpy/multilook.py -r 300 -a 100 --margin 186 186 186 186`.\n",
    "\n",
    "Run the following on kamb in the terminal:\n",
    "\n",
    "```bash\n",
    "cd ~/nobak/SenDT42F472/merged/geom_master\n",
    "createWaterMask.py -d ../../DEM/demLat_N34_N38_Lon_W124_W118.dem.wgs84 -l lat.rdr.full -L lon.rdr.full -o waterMask.rdr.full\n",
    "\n",
    "cd ~/nobak/SenDT42F472/merged/offsets/geom_master\n",
    "multilook.py ../../geom_master/hgt.rdr.full        -r 300 -a 100 --margin 186 186 186 186 -o hgt.rdr\n",
    "multilook.py ../../geom_master/lat.rdr.full        -r 300 -a 100 --margin 186 186 186 186 -o lat.rdr\n",
    "multilook.py ../../geom_master/lon.rdr.full        -r 300 -a 100 --margin 186 186 186 186 -o lon.rdr\n",
    "multilook.py ../../geom_master/los.rdr.full        -r 300 -a 100 --margin 186 186 186 186 -o los.rdr\n",
    "multilook.py ../../geom_master/shadowMask.rdr.full -r 300 -a 100 --margin 186 186 186 186 -o shadowMask.rdr\n",
    "multilook.py ../../geom_master/waterMask.rdr.full  -r 300 -a 100 --margin 186 186 186 186 -o waterMask.rdr\n",
    "```"
   ]
  },
  {
   "cell_type": "markdown",
   "metadata": {},
   "source": [
    "### Plots\n",
    "\n",
    "#### stack - azimuth offset\n",
    "\n",
    "<p align=\"left\">\n",
    "  <img src=\"docs/SenDT128/azimuthOffset_1.png\">\n",
    "  <img src=\"docs/SenDT128/azimuthOffset_2.png\">\n",
    "</p>\n",
    "\n",
    "#### stack - range offset\n",
    "\n",
    "<p align=\"left\">\n",
    "  <img src=\"docs/SenDT128/rangeOffset_1.png\">\n",
    "  <img src=\"docs/SenDT128/rangeOffset_2.png\">\n",
    "</p>\n",
    "\n",
    "#### stack - offset SNR\n",
    "\n",
    "<p align=\"left\">\n",
    "  <img src=\"docs/SenDT128/offsetSNR_1.png\">\n",
    "  <img src=\"docs/SenDT128/offsetSNR_2.png\">\n",
    "</p>\n",
    "\n",
    "#### stack - offset SNR - median in form of network\n",
    "\n",
    "<p align=\"left\">\n",
    "  <img src=\"docs/SenDT128/Network.pdf\">\n",
    "  <img src=\"docs/SenDT128/CoherenceMatrix.pdf\">\n",
    "  <img src=\"docs/SenDT128/CoherenceHistory.pdf\">\n",
    "</p>\n"
   ]
  },
  {
   "cell_type": "code",
   "execution_count": null,
   "metadata": {},
   "outputs": [],
   "source": []
  }
 ],
 "metadata": {
  "kernelspec": {
   "display_name": "Python 3",
   "language": "python",
   "name": "python3"
  },
  "language_info": {
   "codemirror_mode": {
    "name": "ipython",
    "version": 3
   },
   "file_extension": ".py",
   "mimetype": "text/x-python",
   "name": "python",
   "nbconvert_exporter": "python",
   "pygments_lexer": "ipython3",
   "version": "3.6.7"
  }
 },
 "nbformat": 4,
 "nbformat_minor": 2
}
