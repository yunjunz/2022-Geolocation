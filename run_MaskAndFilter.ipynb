{
 "cells": [
  {
   "cell_type": "markdown",
   "metadata": {},
   "source": [
    "Download as \\*.py file and run it in the terminal."
   ]
  },
  {
   "cell_type": "code",
   "execution_count": 1,
   "metadata": {},
   "outputs": [
    {
     "name": "stdout",
     "output_type": "stream",
     "text": [
      "Done.\n"
     ]
    }
   ],
   "source": [
    "import os\n",
    "import glob\n",
    "\n",
    "off_dir = '/home/zyunjun/nobak/SenDT42F472/merged/offsets'     # kamb\n",
    "#off_dir = '/Users/yunjunz/data/SanAndreas/SenDT42F472/merged/offsets' # laptop\n",
    "\n",
    "off_files = glob.glob(os.path.join(off_dir,'*/offset.bip'))\n",
    "for off_file in off_files:\n",
    "    off_dir = os.path.dirname(off_file)\n",
    "    print('*'*10)\n",
    "    print(off_dir)\n",
    "\n",
    "    snr_file = os.path.splitext(off_file)[0] + '_snr.bip'\n",
    "    cmd = 'MaskAndFilter.py -d {d} -s {s} -t 10 -o {o} '.format(d=off_file, s=snr_file, o=off_dir)\n",
    "    print(cmd)\n",
    "    #os.system(cmd)\n",
    "print('Done.')"
   ]
  },
  {
   "cell_type": "code",
   "execution_count": null,
   "metadata": {},
   "outputs": [],
   "source": []
  }
 ],
 "metadata": {
  "kernelspec": {
   "display_name": "Python 3",
   "language": "python",
   "name": "python3"
  },
  "language_info": {
   "codemirror_mode": {
    "name": "ipython",
    "version": 3
   },
   "file_extension": ".py",
   "mimetype": "text/x-python",
   "name": "python",
   "nbconvert_exporter": "python",
   "pygments_lexer": "ipython3",
   "version": "3.6.7"
  }
 },
 "nbformat": 4,
 "nbformat_minor": 2
}
