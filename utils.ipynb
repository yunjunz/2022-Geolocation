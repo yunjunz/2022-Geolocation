{
 "cells": [
  {
   "cell_type": "code",
   "execution_count": 2,
   "metadata": {},
   "outputs": [],
   "source": [
    "import numpy as np\n",
    "from matplotlib import pyplot as plt, ticker\n",
    "from scipy import stats\n",
    "from mintpy.utils import plot as pp\n",
    "\n",
    "def adjust_ts_axis_format(ax, x, vstep=0.3, xlim=None, ylim=None, ylabel='cumulative\\nslant range offset [m]', xticklabels=True):\n",
    "    ax.tick_params(which='both', direction='in', bottom=True, top=True, left=True, right=True)\n",
    "    ax.grid('on')\n",
    "    ax.yaxis.set_major_locator(ticker.MultipleLocator(vstep))\n",
    "    pp.auto_adjust_xaxis_date(ax, x, every_year=1, buffer_year=None)\n",
    "    if xlim is not None:\n",
    "        ax.set_xlim(xlim)\n",
    "    if ylim is not None:\n",
    "        ax.set_ylim(ylim)\n",
    "    if ylabel:\n",
    "        ax.set_ylabel(ylabel)\n",
    "    if not xticklabels:\n",
    "        ax.set_xticklabels([])\n",
    "    return\n",
    "\n",
    "def plot_dot_figure(ax, x, y, vlim, vstep=0.2, xname=None, yname=None, fbase='offset'):\n",
    "    # omit nan value\n",
    "    flag = (~np.isnan(x)) * (~np.isnan(y))\n",
    "    x = x[flag]\n",
    "    y = y[flag]\n",
    "\n",
    "    ax.plot(x, y, 'k.')\n",
    "    ax.plot(vlim, vlim, 'k--', lw=1)\n",
    "\n",
    "    # axis format\n",
    "    ax.tick_params(which='both', direction='in', bottom=True, top=True, left=True, right=True)\n",
    "    ax.xaxis.set_major_locator(ticker.MultipleLocator(vstep))\n",
    "    ax.yaxis.set_major_locator(ticker.MultipleLocator(vstep))\n",
    "    #ax.set_yticklabels([])\n",
    "    ax.yaxis.tick_right()\n",
    "    ax.yaxis.set_label_position(\"right\")\n",
    "    ax.set_xlim(vlim)\n",
    "    ax.set_ylim(vlim)\n",
    "    #ax.set_xlabel('${{{b}}}_{{{n}}}$ [m]'.format(b=fbase, n=xname), color='C0')\n",
    "    #ax.set_ylabel('${{{b}}}_{{{n}}}$ [m]'.format(b=fbase, n=yname), color='C1', labelpad=ylabelpad)\n",
    "    ax.set_aspect('equal', 'box')\n",
    "\n",
    "    # stats\n",
    "    rmse = np.sqrt(np.sum((y - x)**2) / (x.size - 1))\n",
    "    r2 = stats.linregress(y, x)[2]\n",
    "    msg  = r'$RMSE$ = {:.1f} cm'.format(rmse*100) + '\\n'\n",
    "    msg += r'$R^2$ = {:.2f}'.format(r2) + '\\n'\n",
    "    #ax.annotate(msg, xy=(0.05, 0.65), xycoords='axes fraction', color='k', ha='left')\n",
    "    #ax.annotate(msg, xy=(0.95, 0.07), xycoords='axes fraction', color='k', ha='right')\n",
    "    print(msg)\n",
    "\n",
    "    return"
   ]
  },
  {
   "cell_type": "code",
   "execution_count": null,
   "metadata": {},
   "outputs": [],
   "source": []
  }
 ],
 "metadata": {
  "kernelspec": {
   "display_name": "Python 3",
   "language": "python",
   "name": "python3"
  },
  "language_info": {
   "codemirror_mode": {
    "name": "ipython",
    "version": 3
   },
   "file_extension": ".py",
   "mimetype": "text/x-python",
   "name": "python",
   "nbconvert_exporter": "python",
   "pygments_lexer": "ipython3",
   "version": "3.7.9"
  }
 },
 "nbformat": 4,
 "nbformat_minor": 4
}
