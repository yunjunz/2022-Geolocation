{
 "cells": [
  {
   "cell_type": "markdown",
   "metadata": {},
   "source": [
    "## Generate run_files for the stack of offsets\n",
    "\n",
    "### 1. SLC stack: generate a stack of coregistered SLC using ISCE/topStack SLC workflow\n",
    "\n",
    "Location: **Tarapaca, N Chile:** POLYGON((-69.6 -21.8,-67.0 -21.8,-67.0 -20.6,-69.6 -20.6,-69.6 -21.8))\n",
    "\n",
    "#### SenAT149\n",
    "\n",
    "Date: 27 Oct 2014 - 28 Feb 2020 (104 acquisitions; [Saved Search at ASF](https://search.asf.alaska.edu/#/?zoom=4.673333333333336&center=-69.344940,-32.388620&polygon=POLYGON((-69.6%20-21.8,-67%20-21.8,-67%20-20.6,-69.6%20-20.6,-69.6%20-21.8))&resultsLoaded=true&maxResults=1000&granule=S1B_IW_SLC__1SDV_20200228T230607_20200228T230635_020475_026CC1_A35E-SLC&productTypes=SLC&beamModes=IW&path=149-149&end=2020-03-01T23:59:00Z))\n",
    "\n",
    "S1A/B: all S1A before 01 Oct 2016 and all S1B afterwards.\n",
    "\n",
    "```bash\n",
    "cd ~/nobak/ChileSenAT149\n",
    "mkdir DEM; cd DEM\n",
    "dem.py -a stitch -b -24 -19 -71 -66 -r -s 1 -c\n",
    "\n",
    "# slc stack\n",
    "stackSentinel.py -s ./SLC/ -d ./DEM/demLat_S24_S19_Lon_W071_W066.dem.wgs84 -b '-21.8 -20.6 -69.6 -67.0' -a /home/zyunjun/bak/aux/aux_cal/ -o /home/zyunjun/bak/aux/aux_poeorb/ -n '1 2 3' -z 1 -r 1 -C geometry -W slc -useGPU\n",
    "\n",
    "# interferogram stack\n",
    "stackSentinel.py -s ./SLC/ -d ./DEM/demLat_S24_S19_Lon_W071_W066.dem.wgs84 -b '-21.8 -20.6 -69.6 -67.0' -a /home/zyunjun/bak/aux/aux_cal/ -o /home/zyunjun/bak/aux/aux_poeorb/ -n '1 2 3' -z 10 -r 30 -c 3 -C geometry -W interferogram -useGPU\n",
    "```\n",
    "\n",
    "#### SenDT156\n",
    "\n",
    "Date: 16 Oct 2014 - 29 Feb 2020 (241 acquisitions; [Saved Search at ASF](https://search.asf.alaska.edu/#/?zoom=4.673333333333336&center=-69.344940,-32.388620&polygon=POLYGON((-69.6%20-21.8,-67%20-21.8,-67%20-20.6,-69.6%20-20.6,-69.6%20-21.8))&resultsLoaded=true&maxResults=1000&granule=S1B_IW_SLC__1SDV_20200229T100032_20200229T100059_020482_026CF5_5634-SLC&productTypes=SLC&beamModes=IW&path=156-156&end=2020-03-01T23:59:00Z))\n",
    "\n",
    "S1A/B: nicely interleaved S1A/B since July 2017 (to check the S1A/B bias if there is)\n",
    "\n"
   ]
  },
  {
   "cell_type": "code",
   "execution_count": 2,
   "metadata": {},
   "outputs": [
    {
     "name": "stdout",
     "output_type": "stream",
     "text": [
      "Go to directory /Users/yunjunz/data/Tarapaca/SenAT149\n"
     ]
    }
   ],
   "source": [
    "%matplotlib inline\n",
    "import os\n",
    "import glob\n",
    "import numpy as np\n",
    "from matplotlib import pyplot as plt\n",
    "from mintpy.objects import timeseries\n",
    "from mintpy.utils import ptime, network as pnet, readfile, writefile, plot as pp, utils as ut\n",
    "from mintpy import view\n",
    "\n",
    "proj_dir = '/Users/yunjunz/data/Tarapaca/SenAT149'\n",
    "os.chdir(proj_dir)\n",
    "print('Go to directory', proj_dir)"
   ]
  },
  {
   "cell_type": "markdown",
   "metadata": {},
   "source": [
    "### 2. Offset stack: generate a stack of azimuth/range offset using cuDenseOffsets.py\n",
    "\n",
    "#### 2.1 Generate `date12.list`"
   ]
  },
  {
   "cell_type": "code",
   "execution_count": 13,
   "metadata": {},
   "outputs": [
    {
     "name": "stdout",
     "output_type": "stream",
     "text": [
      "number of jobs: 306\n",
      "number of GPUs: 6\n",
      "number of jobs per GPU: 51\n"
     ]
    }
   ],
   "source": [
    "### get date12.list\n",
    "num_conn = 3\n",
    "date_list_file = os.path.join(proj_dir, 'date.list')\n",
    "date_list = np.loadtxt(date_list_file, dtype=bytes, usecols=[0]).astype(str).tolist()\n",
    "date12_list = pnet.select_pairs_sequential(date_list, num_conn=num_conn, date_format='YYYYMMDD')\n",
    "\n",
    "## job info\n",
    "num_pair = len(date12_list)\n",
    "print('number of jobs: {}'.format(num_pair))\n",
    "\n",
    "gpu_ids = [str(i) for i in [2,3,4,5,6,7]]\n",
    "num_gpu = len(gpu_ids)\n",
    "print('number of GPUs: {}'.format(num_gpu))\n",
    "num_job_per_gpu = np.ceil(num_pair / num_gpu).astype(int)\n",
    "print('number of jobs per GPU: {}'.format(num_job_per_gpu))"
   ]
  },
  {
   "cell_type": "markdown",
   "metadata": {},
   "source": [
    "#### 2.2 Generate run_offset_gpu_*.sh\n",
    "\n",
    "+ Run the cell below to generate the `run_files_offset` folder\n",
    "+ Copy the `run_files_offset` folder to **kamb** and run each of them in different screen."
   ]
  },
  {
   "cell_type": "code",
   "execution_count": 15,
   "metadata": {
    "scrolled": true
   },
   "outputs": [
    {
     "name": "stdout",
     "output_type": "stream",
     "text": [
      "open  file: /Users/yunjunz/data/Tarapaca/SenAT149/run_files_offset/run_offset_gpu_2.sh with w mode\n",
      "open  file: /Users/yunjunz/data/Tarapaca/SenAT149/run_files_offset/run_offset_gpu_3.sh with w mode\n",
      "open  file: /Users/yunjunz/data/Tarapaca/SenAT149/run_files_offset/run_offset_gpu_4.sh with w mode\n",
      "open  file: /Users/yunjunz/data/Tarapaca/SenAT149/run_files_offset/run_offset_gpu_5.sh with w mode\n",
      "open  file: /Users/yunjunz/data/Tarapaca/SenAT149/run_files_offset/run_offset_gpu_6.sh with w mode\n",
      "open  file: /Users/yunjunz/data/Tarapaca/SenAT149/run_files_offset/run_offset_gpu_7.sh with w mode\n",
      "close file: /Users/yunjunz/data/Tarapaca/SenAT149/run_files_offset/run_offset_gpu_2.sh\n",
      "close file: /Users/yunjunz/data/Tarapaca/SenAT149/run_files_offset/run_offset_gpu_3.sh\n",
      "close file: /Users/yunjunz/data/Tarapaca/SenAT149/run_files_offset/run_offset_gpu_4.sh\n",
      "close file: /Users/yunjunz/data/Tarapaca/SenAT149/run_files_offset/run_offset_gpu_5.sh\n",
      "close file: /Users/yunjunz/data/Tarapaca/SenAT149/run_files_offset/run_offset_gpu_6.sh\n",
      "close file: /Users/yunjunz/data/Tarapaca/SenAT149/run_files_offset/run_offset_gpu_7.sh\n",
      "chmod +x /Users/yunjunz/data/Tarapaca/SenAT149/run_files_offset/run_offset_gpu_2.sh\n",
      "chmod +x /Users/yunjunz/data/Tarapaca/SenAT149/run_files_offset/run_offset_gpu_3.sh\n",
      "chmod +x /Users/yunjunz/data/Tarapaca/SenAT149/run_files_offset/run_offset_gpu_4.sh\n",
      "chmod +x /Users/yunjunz/data/Tarapaca/SenAT149/run_files_offset/run_offset_gpu_5.sh\n",
      "chmod +x /Users/yunjunz/data/Tarapaca/SenAT149/run_files_offset/run_offset_gpu_6.sh\n",
      "chmod +x /Users/yunjunz/data/Tarapaca/SenAT149/run_files_offset/run_offset_gpu_7.sh\n"
     ]
    }
   ],
   "source": [
    "kamb_proj_dir = '/home/zyunjun/nobak/Tarapaca/SenAT149'\n",
    "\n",
    "## utils function\n",
    "def get_dense_offset_cmd(proj_dir, date12, gpu_id=None):\n",
    "    date1, date2 = date12.split('_')\n",
    "    m_slc = os.path.join(proj_dir, 'merged/SLC/{d}/{d}.slc.full'.format(d=date1))\n",
    "    s_slc = os.path.join(proj_dir, 'merged/SLC/{d}/{d}.slc.full'.format(d=date2))\n",
    "    prefix = os.path.join(proj_dir, 'merged/offsets/{d}/offset'.format(d=date12))\n",
    "\n",
    "    cmd = 'cuDenseOffsets.py -m {m} -s {s} --outprefix {p} '.format(\n",
    "        m=m_slc,\n",
    "        s=s_slc,\n",
    "        p=prefix)\n",
    "    cmd += ' --kw 300 --kh 100 --nwac 50 --nwdc 1 '\n",
    "    cmd += ' --ww 256 --wh 128 --sw 10 --sh 10 --raw-osf 2 --corr-osf 64 --redo '\n",
    "\n",
    "    if gpu_id is not None:\n",
    "        cmd += ' --gpuid {} '.format(gpu_id)\n",
    "\n",
    "    return cmd\n",
    "\n",
    "# run/log_file names and directory\n",
    "run_files = [os.path.join(proj_dir, 'run_files_offset/run_offset_gpu_{}.sh'.format(i)) for i in gpu_ids]\n",
    "log_files = [os.path.join(kamb_proj_dir, 'run_files_offset/run_offset_gpu_{}.log'.format(i)) for i in gpu_ids]\n",
    "run_dir = os.path.dirname(run_files[0])\n",
    "if not os.path.isdir(run_dir):\n",
    "    os.makedirs(run_dir)\n",
    "    print('create directory: {}'.format(run_dir))\n",
    "\n",
    "# write to run_file: command to create log file\n",
    "fs = []\n",
    "for i in range(num_gpu):\n",
    "    f = open(run_files[i], 'w')\n",
    "    print('open  file: {} with w mode'.format(run_files[i]))\n",
    "\n",
    "    cmd = 'touch {}'.format(log_files[i])\n",
    "    f.write(cmd+'\\n')\n",
    "    #print(cmd)\n",
    "    fs.append(f)\n",
    "\n",
    "# write to run_file: command to run cuDenseOffsets.py\n",
    "for i in range(num_pair):\n",
    "    gpu_ind = int(i / num_job_per_gpu)\n",
    "    log_file = log_files[gpu_ind]\n",
    "    \n",
    "    cmd = get_dense_offset_cmd(kamb_proj_dir, date12_list[i], gpu_id=gpu_ids[gpu_ind])\n",
    "    cmd += ' | tee -a {}'.format(log_file)\n",
    "\n",
    "    f = fs[gpu_ind]\n",
    "    f.write(cmd+'\\n')\n",
    "    #print(cmd)\n",
    "\n",
    "# close run_file object\n",
    "for i in range(num_gpu):\n",
    "    fs[i].close()\n",
    "    print('close file:', run_files[i])\n",
    "\n",
    "# change permission for executables\n",
    "for i in range(num_gpu):\n",
    "    cmd = 'chmod +x {}'.format(run_files[i])\n",
    "    print(cmd)\n",
    "    os.system(cmd)"
   ]
  },
  {
   "cell_type": "markdown",
   "metadata": {},
   "source": [
    "#### 2.3 Mask and filter the offset field"
   ]
  },
  {
   "cell_type": "code",
   "execution_count": 9,
   "metadata": {
    "scrolled": true
   },
   "outputs": [
    {
     "name": "stdout",
     "output_type": "stream",
     "text": [
      "number of offset files: 306\n",
      "/Users/yunjunz/development/python/isce2/contrib/stack/stripmapStack/MaskAndFilter.py\n",
      "[==================================================] 20150928_20151022  507s /    10s \n",
      "Done.\n"
     ]
    }
   ],
   "source": [
    "off_dir = '/home/zyunjun/nobak/ChileSenAT149/merged/offsets'     # kamb\n",
    "off_dir = '/Users/yunjunz/data/ChileSenAT149/merged/offsets'     # laptop\n",
    "\n",
    "off_files = glob.glob(os.path.join(off_dir,'*/offset.bip'))\n",
    "num_file = len(off_files)\n",
    "print('number of offset files: {}'.format(num_file))\n",
    "\n",
    "!which MaskAndFilter.py\n",
    "\n",
    "prog_bar = ptime.progressBar(maxValue=num_file)\n",
    "for i in range(num_file):\n",
    "    off_file = off_files[i]\n",
    "    off_dir = os.path.dirname(off_file)\n",
    "    snr_file = os.path.splitext(off_file)[0] + '_snr.bip'\n",
    "    cmd = 'MaskAndFilter.py -d {d} -s {s} -t 20 -o {o} '.format(d=off_file, s=snr_file, o=off_dir)\n",
    "    #print(cmd)\n",
    "    os.system(cmd)\n",
    "\n",
    "    date12 = os.path.basename(off_dir)\n",
    "    prog_bar.update(i+1, suffix=date12)\n",
    "prog_bar.close()\n",
    "print('Done.')"
   ]
  },
  {
   "cell_type": "markdown",
   "metadata": {},
   "source": [
    "#### 2.4  prepare `geometry` files for offset stack on kamb\n",
    "\n",
    "```cfg\n",
    "match_len, match_wid = 256, 256\n",
    "search_len, search_wid = 10, 10\n",
    "margin = 50\n",
    "step_len, step_wid = 100, 300\n",
    "```\n",
    "\n",
    "mli_margin = margin + search_len + match_len / 2 = 188\n",
    "\n",
    "This leads to `$MINTPY_HOME/mintpy/multilook.py -r 300 -a 100 --margin 188 188 188 188`.\n",
    "\n",
    "Run the following on kamb in the terminal:\n",
    "\n",
    "```bash\n",
    "cd ~/nobak/SenDT42F472/merged/geom_master\n",
    "createWaterMask.py -d ../../DEM/demLat_N34_N38_Lon_W124_W118.dem.wgs84 -l lat.rdr.full -L lon.rdr.full -o waterMask.rdr.full --fill 0\n",
    "\n",
    "cd ~/nobak/SenDT42F472/merged/offsets/geom_master\n",
    "multilook.py ../../geom_master/hgt.rdr.full        -r 300 -a 100 --margin 188 188 188 188 -o hgt.rdr\n",
    "multilook.py ../../geom_master/lat.rdr.full        -r 300 -a 100 --margin 188 188 188 188 -o lat.rdr\n",
    "multilook.py ../../geom_master/lon.rdr.full        -r 300 -a 100 --margin 188 188 188 188 -o lon.rdr\n",
    "multilook.py ../../geom_master/los.rdr.full        -r 300 -a 100 --margin 188 188 188 188 -o los.rdr\n",
    "multilook.py ../../geom_master/shadowMask.rdr.full -r 300 -a 100 --margin 188 188 188 188 -o shadowMask.rdr\n",
    "multilook.py ../../geom_master/waterMask.rdr.full  -r 300 -a 100 --margin 188 188 188 188 -o waterMask.rdr\n",
    "```"
   ]
  },
  {
   "cell_type": "code",
   "execution_count": null,
   "metadata": {},
   "outputs": [],
   "source": []
  },
  {
   "cell_type": "code",
   "execution_count": null,
   "metadata": {},
   "outputs": [],
   "source": []
  },
  {
   "cell_type": "markdown",
   "metadata": {},
   "source": [
    "### 3. Offset time-series\n",
    "\n",
    "Here is my MintPy configuration file `SanAndreasSenDT42F472.txt`:\n",
    "\n",
    "```cfg\n",
    "# vim: set filetype=cfg:\n",
    "mintpy.load.processor      = isce  #[isce,snap,gamma,roipac], auto for isce\n",
    "##---------for ISCE only:\n",
    "mintpy.load.metaFile       = ../master/IW1.xml  #[path2metadata_file], i.e.: ./master/IW1.xml, ./masterShelve/data.dat\n",
    "mintpy.load.baselineDir    = ../baselines  #[path2baseline_dir], i.e.: ./baselines\n",
    "##---------offset datasets:\n",
    "mintpy.load.azOffFile      = ../merged/offsets/*/filtAz*.off  #[path2az_off_file], optional\n",
    "mintpy.load.rgOffFile      = ../merged/offsets/*/filtRa*.off  #[path2rg_off_file], optional\n",
    "mintpy.load.offSnrFile     = ../merged/offsets/*/*_snr*.bip   #[path2off_SNR_file], optional\n",
    "##---------geometry datasets:\n",
    "mintpy.load.demFile        = ../merged/offsets/geom_master/hgt.rdr  #[path2hgt_file]\n",
    "mintpy.load.lookupYFile    = ../merged/offsets/geom_master/lat.rdr  #[path2lat_file], not required for geocoded data\n",
    "mintpy.load.lookupXFile    = ../merged/offsets/geom_master/lon.rdr  #[path2lon_file], not required for geocoded data\n",
    "mintpy.load.incAngleFile   = ../merged/offsets/geom_master/los.rdr  #[path2los_file], optional\n",
    "mintpy.load.azAngleFile    = ../merged/offsets/geom_master/los.rdr  #[path2los_file], optional\n",
    "mintpy.load.shadowMaskFile = ../merged/offsets/geom_master/shadowMask.rdr  #[path2shadow_file], optional\n",
    "mintpy.load.waterMaskFile  = ../merged/offsets/geom_master/waterMask.rdr  #[path2water_mask_file], optional\n",
    "\n",
    "mintpy.network.connNumMax                       = 2\n",
    "```\n",
    "\n",
    "#### 3.1 Run simple time series analysis with MintPy\n",
    "\n",
    "Run the following in the terminal:\n",
    "\n",
    "```bash\n",
    "cd /Users/yunjunz/data/ChileSenAT149/mintpyOffset\n",
    "smallbaselineApp.py SanAndreasSenDT42F472.txt --end modify_network\n",
    "ifgram_inversion.py  inputs/ifgramStack.h5 -i azimuthOffset --water-mask waterMask.h5\n",
    "ifgram_inversion.py  inputs/ifgramStack.h5 -i rangeOffset --water-mask waterMask.h5\n",
    "reference_date.py timeseriesAz.h5 --ref-date 20200111\n",
    "reference_date.py timeseriesRg.h5 --ref-date 20200111\n",
    "timeseries2velocity.py timeseriesAz.h5 -o velocityAz.h5\n",
    "timeseries2velocity.py timeseriesRg.h5 -o velocityRg.h5\n",
    "```\n",
    "\n",
    "#### 3.2 Prepare mask\n",
    "\n",
    "It should be:\n",
    "+ pixels with high temporal coherence\n",
    "+ pixels in land\n",
    "+ pixels within the reasonable velocity range"
   ]
  },
  {
   "cell_type": "code",
   "execution_count": 2,
   "metadata": {},
   "outputs": [
    {
     "name": "stdout",
     "output_type": "stream",
     "text": [
      "Go to directory /Users/yunjunz/data/ChileSenAT149/mintpyOffset\n"
     ]
    },
    {
     "data": {
      "image/png": "[encoded data removed]",
      "text/plain": [
       "<Figure size 720x304.208 with 2 Axes>"
      ]
     },
     "metadata": {
      "needs_background": "light"
     },
     "output_type": "display_data"
    }
   ],
   "source": [
    "# Go to mintpy directory\n",
    "mintpy_dir = os.path.join(proj_dir, 'mintpyOffset')\n",
    "os.chdir(mintpy_dir)\n",
    "print('Go to directory', mintpy_dir)\n",
    "\n",
    "# use maskTempCoh.h5 as filename as it's used as the default mask file name in smallbaselineApp.py\n",
    "mask_file = 'maskTempCohSwath1.h5'\n",
    "if not os.path.isfile(mask_file):\n",
    "    ## temporal coherence\n",
    "    min_tcoh = 0.999\n",
    "    tcoh_az = readfile.read('temporalCoherenceAz.h5')[0]\n",
    "    tcoh_rg = readfile.read('temporalCoherenceRg.h5')[0]\n",
    "    mask = np.ones(tcoh_az.shape, dtype=np.bool_)\n",
    "    print('number of valid pixels: {}'.format(np.sum(mask)))\n",
    "    mask *= tcoh_az > min_tcoh\n",
    "    print('number of valid pixels after temp_coh_az: {}'.format(np.sum(mask)))\n",
    "    mask *= tcoh_rg > min_tcoh\n",
    "    print('number of valid pixels after temp_coh_rg: {}'.format(np.sum(mask)))\n",
    "\n",
    "    ## water\n",
    "    water_mask = readfile.read('waterMask.h5')[0]\n",
    "    mask *= water_mask\n",
    "    print('number of valid pixels after water_mask: {}'.format(np.sum(mask)))\n",
    "\n",
    "    ## velocity\n",
    "    max_vel = 0.2 # m/year\n",
    "    vel_az = readfile.read('velocityAz.h5', datasetName='velocity')[0]\n",
    "    vel_rg = readfile.read('velocityRg.h5', datasetName='velocity')[0]\n",
    "    mask *= np.abs(vel_az) < max_vel\n",
    "    print('number of valid pixels after velocity_az: {}'.format(np.sum(mask)))\n",
    "    mask *= np.abs(vel_rg) < max_vel\n",
    "    print('number of valid pixels after velocity_rg: {}'.format(np.sum(mask)))\n",
    "\n",
    "    ## for swath 1 only\n",
    "    xmax = 70\n",
    "    mask[:,xmax:] = 0\n",
    "\n",
    "    ## write to file\n",
    "    atr = readfile.read_attribute('temporalCoherenceAz.h5')\n",
    "    atr['FILE_TYPE'] = 'mask'\n",
    "    atr['DATA_TYPE'] = 'bool'\n",
    "    atr['UNIT'] = '1'\n",
    "    writefile.write(mask, out_file=mask_file, metadata=atr)\n",
    "\n",
    "# plot\n",
    "view.main('maskTempCoh.h5 -c gray --noverbose'.split())"
   ]
  },
  {
   "cell_type": "markdown",
   "metadata": {},
   "source": [
    "#### 3.3 Add aux info - cross S1A/B, IPF, etc."
   ]
  },
  {
   "cell_type": "code",
   "execution_count": 14,
   "metadata": {},
   "outputs": [
    {
     "name": "stdout",
     "output_type": "stream",
     "text": [
      "SENTINEL1_SENSOR = A A A A A A A A A A A A A A A A B B B B B B B B B B B B B B B B B B B B B B B B B B B B B B B B B B B B B B B B B B B B B B B B B B B B B B B B B B B B B B B B B B B B B B B B B B B B B B B B B B B B B B B B\n",
      "SENTINEL1_IPF = 2.45 2.53 2.53 2.53 2.53 2.60 2.60 2.60 2.62 2.62 2.70 2.71 2.71 2.71 2.72 2.72 2.72 2.72 2.72 2.72 2.72 2.72 2.72 2.72 2.82 2.82 2.82 2.82 2.82 2.82 2.82 2.82 2.84 2.84 2.84 2.84 2.84 2.84 2.84 2.84 2.84 2.84 2.84 2.84 2.84 2.84 2.84 2.90 2.90 2.90 2.90 2.90 2.90 2.90 2.90 2.91 2.91 2.91 2.91 2.91 2.91 2.91 2.91 2.91 2.91 2.91 2.91 2.91 2.91 2.91 2.91 2.91 2.91 2.91 2.91 2.91 2.91 2.91 2.91 2.91 2.91 2.91 2.91 2.91 2.91 3.10 3.10 3.10 3.10 3.10 3.10 3.10 3.10 3.10 3.10 3.10 3.10 3.10 3.10 3.10 3.10 3.10 3.20 3.20\n",
      "SENTINEL1_SENSOR = A A A A A A A A A A A A A A A A B B B B B B B B B B B B B B B B B B B B B B B B B B B B B B B B B B B B B B B B B B B B B B B B B B B B B B B B B B B B B B B B B B B B B B B B B B B B B B B B B B B B B B B B\n",
      "SENTINEL1_IPF = 2.45 2.53 2.53 2.53 2.53 2.60 2.60 2.60 2.62 2.62 2.70 2.71 2.71 2.71 2.72 2.72 2.72 2.72 2.72 2.72 2.72 2.72 2.72 2.72 2.82 2.82 2.82 2.82 2.82 2.82 2.82 2.82 2.84 2.84 2.84 2.84 2.84 2.84 2.84 2.84 2.84 2.84 2.84 2.84 2.84 2.84 2.84 2.90 2.90 2.90 2.90 2.90 2.90 2.90 2.90 2.91 2.91 2.91 2.91 2.91 2.91 2.91 2.91 2.91 2.91 2.91 2.91 2.91 2.91 2.91 2.91 2.91 2.91 2.91 2.91 2.91 2.91 2.91 2.91 2.91 2.91 2.91 2.91 2.91 2.91 3.10 3.10 3.10 3.10 3.10 3.10 3.10 3.10 3.10 3.10 3.10 3.10 3.10 3.10 3.10 3.10 3.10 3.20 3.20\n",
      "Done.\n"
     ]
    }
   ],
   "source": [
    "def get_S1AB_from_SAFE_file(safe_list_file, ts_file, out_file=None):\n",
    "    \"\"\"Get list of Sentinel-1A or Sentinel-1B for each acquisition from the list of SAFE filenames.\n",
    "\n",
    "    Since not all the SAFE list file are used, due to the bbox argument, ts_file is required to \n",
    "    grab the actual dates.\n",
    "\n",
    "    Parameters: safe_list_file - str, txt file path for the SAFE file names\n",
    "                ts_file        - str, time-series HDF5 filename\n",
    "                out_file       - str, output txt file name\n",
    "    Returns:    dates          - list of str, date in YYYYMMDD format\n",
    "                sensors        - list of str, A or B\n",
    "                fnames         - list of str, SAFE filenames\n",
    "    Examples: \n",
    "        !cd ~/nobak/ChileSenAT149\n",
    "        !ls SLC/S1*.zip > SLC/SAFE.list\n",
    "        dates, sensors, safe_files = get_s1ab_from_safe_file('SLC/SAFE.list', 'mintpy/timeseries.h5')\n",
    "    \"\"\"\n",
    "\n",
    "    # downloaded SLC files (not all of them are used)\n",
    "    fnames0 = np.loadtxt(safe_list_file, dtype=bytes, usecols=0).astype(str).tolist()\n",
    "    fnames0 = [os.path.basename(i) for i in fnames0]\n",
    "\n",
    "    # get date list\n",
    "    dates = timeseries(ts_file).get_date_list()\n",
    "\n",
    "    # get sensors and filenames\n",
    "    fnames = []\n",
    "    sensors = []\n",
    "    for date_str in dates:\n",
    "        fname = [i for i in fnames0 if date_str in i][0]\n",
    "        sensor = fname[2]\n",
    "        fnames.append(fname)\n",
    "        sensors.append(sensor)\n",
    "\n",
    "    # output\n",
    "    if out_file is not None:\n",
    "        header = 'date \\t sensor \\t SAFE file'\n",
    "        np.savetxt(out_file, np.hstack((np.array(dates).reshape(-1,1),\n",
    "                                        np.array(sensors).reshape(-1,1),\n",
    "                                        np.array(fnames).reshape(-1,1))),\n",
    "                   fmt='%s', header=header)\n",
    "        print('save sensors info to file: {}'.format(out_file))\n",
    "    return dates, sensors, fnames\n",
    "\n",
    "\n",
    "def get_IPF(proj_dir, ts_file):\n",
    "    import glob\n",
    "    from mintpy.prep_isce import load_product\n",
    "\n",
    "    slaves_dir = os.path.join(proj_dir, 'secondarys')\n",
    "    master_dir = os.path.join(proj_dir, 'reference')\n",
    "\n",
    "    # date list\n",
    "    date_list = timeseries(ts_file).get_date_list()\n",
    "    num_date = len(date_list)\n",
    "    # master date\n",
    "    m_date = [i for i in date_list if not os.path.isdir(os.path.join(slaves_dir, i))][0]\n",
    "\n",
    "    # grab IPF numver\n",
    "    IPF_IW1, IPF_IW2, IPF_IW3 = [], [], []\n",
    "    prog_bar = ptime.progressBar(maxValue=num_date)\n",
    "    for i in range(num_date):\n",
    "        date_str = date_list[i]\n",
    "\n",
    "        # get xml_dir\n",
    "        if date_str == m_date:\n",
    "            xml_dir = master_dir\n",
    "        else:\n",
    "            xml_dir = os.path.join(slaves_dir, date_str)\n",
    "\n",
    "        xml_file = os.path.join(xml_dir, 'IW1.xml')\n",
    "        IPF = load_product(xml_file).processingSoftwareVersion\n",
    "        IPF_IW1.append('{:.02f}'.format(float(IPF)))\n",
    "        prog_bar.update(i+1, suffix='{} IW1'.format(date_str))\n",
    "\n",
    "        xml_file = os.path.join(xml_dir, 'IW2.xml')\n",
    "        IPF = load_product(xml_file).processingSoftwareVersion\n",
    "        IPF_IW2.append('{:.02f}'.format(float(IPF)))\n",
    "        prog_bar.update(i+1, suffix='{} IW2'.format(date_str))\n",
    "\n",
    "        xml_file = os.path.join(xml_dir, 'IW3.xml')\n",
    "        IPF = load_product(xml_file).processingSoftwareVersion\n",
    "        IPF_IW3.append('{:.02f}'.format(float(IPF)))\n",
    "        prog_bar.update(i+1, suffix='{} IW3'.format(date_str))\n",
    "    prog_bar.close()\n",
    "    return date_list, IPF_IW1, IPF_IW2, IPF_IW3\n",
    "\n",
    "##\n",
    "safe_list_file = os.path.join(proj_dir, 'SLC/SAFE.list')\n",
    "ts_file = os.path.join(proj_dir, 'mintpyOffset/timeseriesRg.h5')\n",
    "\n",
    "out_file = os.path.join(proj_dir, 'date.list')\n",
    "if not os.path.isfile(out_file):\n",
    "    # calculate S1 sensor and IPF info\n",
    "    dates, sensors = get_S1AB_from_SAFE_file(safe_list_file, ts_file)[0:2]\n",
    "    dates, IPF_IW1, IPF_IW2, IPF_IW3 = get_IPF(proj_dir, ts_file)\n",
    "\n",
    "    # write to text file\n",
    "    header =  '\\t   Sentinel-1 \\t\\tIPF number\\n'\n",
    "    header += 'date \\t\\tsensor \\tIW1 \\tIW2 \\tIW3'\n",
    "    np.savetxt(out_file, np.hstack((np.array(dates).reshape(-1,1),\n",
    "                                    np.array(sensors).reshape(-1,1),\n",
    "                                    np.array(IPF_IW1).reshape(-1,1),\n",
    "                                    np.array(IPF_IW2).reshape(-1,1),\n",
    "                                    np.array(IPF_IW3).reshape(-1,1),\n",
    "                                   )),\n",
    "               fmt='%s', delimiter=' ', header=header)\n",
    "    print('save sensors info to file: {}'.format(out_file))\n",
    "\n",
    "# read S1 sensor and IPF info\n",
    "fc = np.loadtxt(out_file, dtype=bytes, usecols=(0,1,2)).astype(str)\n",
    "dates   = fc[:,0].tolist()\n",
    "sensors = fc[:,1].tolist()\n",
    "IPFs    = fc[:,2].tolist()\n",
    "\n",
    "# add to h5 metadata\n",
    "atr_new = dict()\n",
    "atr_new['SENTINEL1_SENSOR'] = ' '.join(sensors)\n",
    "atr_new['SENTINEL1_IPF'] = ' '.join(IPFs)\n",
    "\n",
    "for fname in ['timeseriesRg.h5', 'timeseriesAz.h5']:\n",
    "    fname = os.path.join(proj_dir, 'mintpyOffset', fname)\n",
    "    ut.add_attribute(fname, atr_new, print_msg=True)\n",
    "print('Done.')"
   ]
  },
  {
   "cell_type": "markdown",
   "metadata": {},
   "source": [
    "### 4. Plot time-series results"
   ]
  },
  {
   "cell_type": "code",
   "execution_count": null,
   "metadata": {},
   "outputs": [],
   "source": [
    "# plot\n",
    "!plot_network.py inputs/ifgramStack.h5 -d offsetSNR -v 0 50 --nodisplay\n",
    "!view.py timeseriesAz.h5 -v -50 50 --title4sen --nodisplay --noverbose\n",
    "!view.py timeseriesRg.h5 -v -50 50 --title4sen --nodisplay --noverbose\n",
    "!view.py temporalCoherenceAz.h5 --nodisplay --noverbose\n",
    "!view.py temporalCoherenceRg.h5 --nodisplay --noverbose\n",
    "!view.py velocityAz.h5 velocity --nodisplay --noverbose\n",
    "!view.py velocityRg.h5 velocity --nodisplay --noverbose\n",
    "!view.py inputs/ifgramStack.h5 azimuthOffset --mask maskTempCoh.h5 -v -0.1 0.1 --nodisplay --noverbose\n",
    "!view.py inputs/ifgramStack.h5 rangeOffset --mask maskTempCoh.h5 -v -0.1 0.1 --nodisplay --noverbose\n",
    "!view.py inputs/ifgramStack.h5 offsetSNR -v 0 200 -c RdBu_truncate --cmap-vlist 0 0.1 1 --nodisplay --noverbose\n",
    "\n",
    "# move .pdf/png files to pic folder\n",
    "!mv *pdf *png ./pic/"
   ]
  },
  {
   "cell_type": "code",
   "execution_count": 4,
   "metadata": {},
   "outputs": [
    {
     "name": "stdout",
     "output_type": "stream",
     "text": [
      "This is the Open Source version of ISCE.\n",
      "Some of the workflows depend on a separate licensed package.\n",
      "To obtain the licensed package, please make a request for ISCE\n",
      "through the website: https://download.jpl.nasa.gov/ops/request/index.cfm.\n",
      "Alternatively, if you are a member, or can become a member of WinSAR\n",
      "you may be able to obtain access to a version of the licensed sofware at\n",
      "https://winsar.unavco.org/software/isce\n"
     ]
    }
   ],
   "source": [
    "from mintpy.utils import isce_utils\n",
    "xml_file1 = os.path.join(proj_dir, 'secondarys/20160407/IW1.xml')\n",
    "xml_file2 = os.path.join(proj_dir, 'secondarys/20180906/IW1.xml')\n",
    "pm1 = isce_utils.load_product(xml_file1)\n",
    "pm2 = isce_utils.load_product(xml_file2)"
   ]
  },
  {
   "cell_type": "code",
   "execution_count": null,
   "metadata": {},
   "outputs": [],
   "source": []
  }
 ],
 "metadata": {
  "kernelspec": {
   "display_name": "Python 3",
   "language": "python",
   "name": "python3"
  },
  "language_info": {
   "codemirror_mode": {
    "name": "ipython",
    "version": 3
   },
   "file_extension": ".py",
   "mimetype": "text/x-python",
   "name": "python",
   "nbconvert_exporter": "python",
   "pygments_lexer": "ipython3",
   "version": "3.7.7"
  }
 },
 "nbformat": 4,
 "nbformat_minor": 4
}
